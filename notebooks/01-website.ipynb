{
 "cells": [
  {
   "cell_type": "markdown",
   "metadata": {},
   "source": [
    "# Website\n",
    "\n",
    "> Throughout this analysis, we will extract data from websites. We need to ensure that we do so responsibly by sending a user agent and caching as much data as possible. We create classes and methods to make that possible here."
   ]
  },
  {
   "cell_type": "code",
   "execution_count": null,
   "metadata": {},
   "outputs": [],
   "source": [
    "# | default_exp website\n",
    "# | export\n",
    "from requests_cache import SQLiteCache, CachedSession\n",
    "from pydantic import BaseModel\n",
    "from pathlib import Path\n",
    "from typing import Optional"
   ]
  },
  {
   "cell_type": "code",
   "execution_count": null,
   "metadata": {},
   "outputs": [],
   "source": [
    "# | export\n",
    "class Website:\n",
    "    \"\"\"\n",
    "    Represents a Website. You can make cached requests to the website by\n",
    "    using the `self.session` object.\n",
    "    \"\"\"\n",
    "\n",
    "    def __init__(\n",
    "        self,\n",
    "        cache_name: str,\n",
    "        cache_dir: Path,\n",
    "        cache_methods: tuple = (\"GET\", \"HEAD\", \"POST\"),\n",
    "        user_agent: str = \"legisph (code@tjpalanca.com)\",\n",
    "    ):\n",
    "        cache_dir.mkdir(exist_ok=True, parents=True)\n",
    "        self.session = CachedSession(\n",
    "            backend=SQLiteCache(cache_dir / f\"{cache_name}.sqlite\"),\n",
    "            allowable_methods=cache_methods,\n",
    "        )\n",
    "        self.session.headers[\"User-Agent\"] = user_agent"
   ]
  },
  {
   "cell_type": "markdown",
   "metadata": {},
   "source": [
    "In cases where we are unable to successfully parse, we create custom exceptions to know whether this is something we can act on or if it is something we cannot solve."
   ]
  },
  {
   "cell_type": "code",
   "execution_count": null,
   "metadata": {},
   "outputs": [],
   "source": [
    "# | export\n",
    "class WebsiteException(Exception):\n",
    "    \"\"\"\n",
    "    General class for exceptions from a website. Has a resource string that can be\n",
    "    accessed to know about the problem.\n",
    "    \"\"\"\n",
    "\n",
    "    def __init__(self, message: str, resource: str):\n",
    "        super().__init__(message, resource)\n",
    "\n",
    "    # We have to do this instead of using instance fields because it is not possible\n",
    "    # to unpickle this exception with fields.\n",
    "    @property\n",
    "    def message(self):\n",
    "        return self.args[0]\n",
    "\n",
    "    @property\n",
    "    def resource(self):\n",
    "        return self.args[1]\n",
    "\n",
    "\n",
    "class NotFoundError(WebsiteException):\n",
    "    \"\"\"Raised when the resource is not found.\"\"\"\n",
    "\n",
    "\n",
    "class ServerError(WebsiteException):\n",
    "    \"\"\"Raised when the server reports an internal error.\"\"\"\n",
    "\n",
    "\n",
    "class ParsingError(WebsiteException):\n",
    "    \"\"\"Raised when there are issues parsing the exception\"\"\""
   ]
  },
  {
   "cell_type": "markdown",
   "metadata": {},
   "source": [
    "Some objects are common across different website and we define them below."
   ]
  },
  {
   "cell_type": "code",
   "execution_count": null,
   "metadata": {},
   "outputs": [],
   "source": [
    "# | export\n",
    "class Link(BaseModel):\n",
    "    \"\"\"A link to a resource on the internet\"\"\"\n",
    "\n",
    "    url: str\n",
    "    name: Optional[str]"
   ]
  }
 ],
 "metadata": {
  "kernelspec": {
   "display_name": "Python 3.10.7 ('.venv': poetry)",
   "language": "python",
   "name": "python3"
  }
 },
 "nbformat": 4,
 "nbformat_minor": 2
}
