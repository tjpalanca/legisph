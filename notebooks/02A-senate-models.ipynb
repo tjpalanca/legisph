{
 "cells": [
  {
   "cell_type": "markdown",
   "metadata": {},
   "source": [
    "# Senate\n",
    "\n",
    "> The Senate is the upper chamber of Congress, composed of 24 senators that serve 6-year terms. "
   ]
  },
  {
   "cell_type": "code",
   "execution_count": null,
   "metadata": {},
   "outputs": [],
   "source": [
    "# | default_exp senate.models\n",
    "# | export\n",
    "import datetime\n",
    "import rich\n",
    "\n",
    "from pydantic import BaseModel\n",
    "from typing import Dict, Optional, List\n",
    "\n",
    "from legisph.website import Link"
   ]
  },
  {
   "cell_type": "markdown",
   "metadata": {},
   "source": [
    "## Senate Bills\n",
    "\n",
    "Our first task is to extract Senate Bills and their related information from the [Legislative Information System](http://legacy.senate.gov.ph/lis/leg_sys.aspx?congress=19&type=bill). This contains data on senate bills, their sponsors, evolution, and timings of actions from the 13th congress onwards. "
   ]
  },
  {
   "cell_type": "markdown",
   "metadata": {},
   "source": [
    "### Base Models\n",
    "\n",
    "There are some common elements found in the Senate Bill information, such as Senators, Senate Committees, and of course Senate Bills. We create `{pydantic}` models to encapsulate their data and get validation for free:  "
   ]
  },
  {
   "cell_type": "markdown",
   "metadata": {},
   "source": [
    "#### Senator "
   ]
  },
  {
   "cell_type": "code",
   "execution_count": null,
   "metadata": {},
   "outputs": [],
   "source": [
    "# | export\n",
    "class Senator(BaseModel):\n",
    "    \"\"\"A member of the Senate\"\"\"\n",
    "\n",
    "    name: str"
   ]
  },
  {
   "cell_type": "markdown",
   "metadata": {},
   "source": [
    "#### Senate Committee"
   ]
  },
  {
   "cell_type": "code",
   "execution_count": null,
   "metadata": {},
   "outputs": [],
   "source": [
    "# | export\n",
    "class SenateCommittee(BaseModel):\n",
    "    \"\"\"A committee in the Senate\"\"\"\n",
    "\n",
    "    name: str"
   ]
  },
  {
   "cell_type": "markdown",
   "metadata": {},
   "source": [
    "#### Senate Bill\n",
    "\n",
    "The SenateBill is the main model that we'd like to extract and will be the main focus of this part of the analysis. "
   ]
  },
  {
   "cell_type": "code",
   "execution_count": null,
   "metadata": {},
   "outputs": [],
   "source": [
    "# | export\n",
    "class SenateBill(BaseModel):\n",
    "    \"\"\"\n",
    "    These are general measures, which if passed upon, may become laws.\n",
    "    A bill is prefixed with S., followed by a number assigned the measure based\n",
    "    on the order in which it is introduced. The vast majority of legislative\n",
    "    proposals recommendations dealing with the economy, increasing penalties\n",
    "    for certain crimes, regulation on commerce and trade, etc., are drafted in\n",
    "    the form of bills. They also include budgetary appropriation of the\n",
    "    government and many others. When passed by both chambers in identical\n",
    "    form and signed by the President or repassed by Congress over a presidential\n",
    "    veto, they become laws.\n",
    "\n",
    "    [Definition Source](http://legacy.senate.gov.ph/about/legpro.asp)\n",
    "    \"\"\"\n",
    "\n",
    "    class SenateBillStatus(BaseModel):\n",
    "        date: datetime.date\n",
    "        item: str\n",
    "\n",
    "    class FloorActivity(BaseModel):\n",
    "        date: datetime.date\n",
    "        parliamentary_status: str\n",
    "        senators: Optional[List[Senator]]\n",
    "\n",
    "    class Subject(BaseModel):\n",
    "        name: str\n",
    "\n",
    "    class Vote(BaseModel):\n",
    "        type: str\n",
    "        date: datetime.date\n",
    "        tally: Dict[str, List[Senator]]\n",
    "\n",
    "    url: str\n",
    "    congress: int\n",
    "    billno: str\n",
    "    congress_text: str\n",
    "    billno_text: str\n",
    "    title: str\n",
    "    long_title: str\n",
    "    filing_date: datetime.date\n",
    "    filers: Optional[List[Senator]] = None\n",
    "    links: Optional[List[Link]] = None\n",
    "    scope: str\n",
    "    legislative_status: SenateBillStatus\n",
    "    subjects: Optional[List[Subject]] = None\n",
    "    primary_committee: Optional[List[SenateCommittee]] = None\n",
    "    secondary_committee: Optional[List[SenateCommittee]] = None\n",
    "    committee_reports: Optional[List[Link]] = None\n",
    "    sponsors: Optional[List[Senator]] = None\n",
    "    cosponsors: Optional[List[Senator]] = None\n",
    "    document_certification: Optional[str] = None\n",
    "    floor_activity: Optional[List[FloorActivity]]\n",
    "    votes: Optional[List[Vote]]\n",
    "    legislative_history: List[SenateBillStatus]\n",
    "\n",
    "    def __str__(self):\n",
    "        return f\"[{self.billno}] {self.title}\""
   ]
  }
 ],
 "metadata": {
  "kernelspec": {
   "display_name": "Python 3.11.1 ('.venv': poetry)",
   "language": "python",
   "name": "python3"
  }
 },
 "nbformat": 4,
 "nbformat_minor": 4
}
