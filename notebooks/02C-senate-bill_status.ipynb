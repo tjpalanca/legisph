{
 "cells": [
  {
   "cell_type": "markdown",
   "metadata": {},
   "source": [
    "# Senate Bill Status\n",
    "\n",
    "> In the current legislative status field as well as the Legislative history section, there are free text strings that depic actions being taken on these bills, their dates, and the potential actors. However, they are not particularly well-formatted, so we'll need to do some custom string parsing to get this to work.\n"
   ]
  },
  {
   "cell_type": "code",
   "execution_count": 4,
   "metadata": {},
   "outputs": [],
   "source": [
    "# | default_exp senate.bill_status\n",
    "# | export\n",
    "import re\n",
    "import datetime\n",
    "\n",
    "from typing import List, Optional\n",
    "from nbdev.showdoc import show_doc\n",
    "\n",
    "from legisph.senate.models import SenateBill, Senator, SenateCommittee"
   ]
  },
  {
   "cell_type": "markdown",
   "metadata": {},
   "source": [
    "## Parsing Strategy \n",
    "\n",
    "Our strategy is to cycle through a predefined list of classes that all have a `parse()` class method which return parsed statuses (if any) and an indicator as to whether to short circuit the function. \n",
    "\n",
    "For example, we first define the most common status for \"Pending in committee\" as follows:"
   ]
  },
  {
   "cell_type": "code",
   "execution_count": 5,
   "metadata": {},
   "outputs": [],
   "source": [
    "class PendingInCommittee(SenateBill.SenateBillStatus):\n",
    "    name: str = \"Pending in Committee\"\n",
    "\n",
    "    @classmethod\n",
    "    def parse(cls, h):\n",
    "        if h.item == \"Pending in the Committee\":\n",
    "            return (cls(**h.dict()), False)\n",
    "        return (None, True)"
   ]
  },
  {
   "cell_type": "markdown",
   "metadata": {},
   "source": [
    "This is able to parse a status and turn it into the relevant subclass. It returns `False` for the second part of the tuple because if it matches exactly, then there is no further action to take. We also define a convenience function for testing the individual parsing functions:"
   ]
  },
  {
   "cell_type": "code",
   "execution_count": 6,
   "metadata": {},
   "outputs": [],
   "source": [
    "def test_parsing(statusclass, item):\n",
    "    parsed = statusclass.parse(\n",
    "        SenateBill.SenateBillStatus(date=datetime.date.today(), item=item)\n",
    "    )\n",
    "    assert parsed[0] is not None\n",
    "    assert isinstance(parsed[1], bool)\n",
    "    return parsed"
   ]
  },
  {
   "cell_type": "code",
   "execution_count": 7,
   "metadata": {},
   "outputs": [
    {
     "data": {
      "text/plain": [
       "(PendingInCommittee(date=datetime.date(2022, 10, 11), item='Pending in the Committee', name='Pending in Committee'),\n",
       " False)"
      ]
     },
     "execution_count": 7,
     "metadata": {},
     "output_type": "execute_result"
    }
   ],
   "source": [
    "test_parsing(PendingInCommittee, \"Pending in the Committee\")"
   ]
  },
  {
   "cell_type": "markdown",
   "metadata": {},
   "source": [
    "This function below then takes a predefined list of classes and cycles through them, chugging out the parsed actions along the way."
   ]
  },
  {
   "cell_type": "code",
   "execution_count": 127,
   "metadata": {},
   "outputs": [
    {
     "data": {
      "text/markdown": [
       "---\n",
       "\n",
       "### parse_senate_bill_status\n",
       "\n",
       ">      parse_senate_bill_status\n",
       ">                                (status:legisph.senate.models.SenateBill.Senate\n",
       ">                                BillStatus, classes:list)\n",
       "\n",
       "|    | **Type** | **Details** |\n",
       "| -- | -------- | ----------- |\n",
       "| status | SenateBillStatus | Senate Bill Status to parse into a subclass |\n",
       "| classes | list | List of classes through which to cycle |"
      ],
      "text/plain": [
       "---\n",
       "\n",
       "### parse_senate_bill_status\n",
       "\n",
       ">      parse_senate_bill_status\n",
       ">                                (status:legisph.senate.models.SenateBill.Senate\n",
       ">                                BillStatus, classes:list)\n",
       "\n",
       "|    | **Type** | **Details** |\n",
       "| -- | -------- | ----------- |\n",
       "| status | SenateBillStatus | Senate Bill Status to parse into a subclass |\n",
       "| classes | list | List of classes through which to cycle |"
      ]
     },
     "execution_count": 127,
     "metadata": {},
     "output_type": "execute_result"
    }
   ],
   "source": [
    "# | export\n",
    "def parse_senate_bill_status(\n",
    "    status: SenateBill.SenateBillStatus,  # Senate Bill Status to parse into a subclass\n",
    "    classes: list,  # List of classes through which to cycle\n",
    "):\n",
    "    actions = []\n",
    "    # Split the status into multiple ones if it contains newlines\n",
    "    statuses = [\n",
    "        SenateBill.SenateBillStatus(date=status.date, item=s)\n",
    "        for s in status.item.split(\";\\n\")\n",
    "    ]\n",
    "    for s in statuses:\n",
    "        for c in classes:\n",
    "            action, cycle = c.parse(s)\n",
    "            if action is not None:\n",
    "                actions.append(action)\n",
    "            if not cycle:\n",
    "                break\n",
    "    return actions\n",
    "\n",
    "\n",
    "show_doc(parse_senate_bill_status)"
   ]
  },
  {
   "cell_type": "code",
   "execution_count": 119,
   "metadata": {},
   "outputs": [
    {
     "data": {
      "text/plain": [
       "[PendingInCommittee(date=datetime.date(2022, 10, 7), item='Pending in the Committee', name='Pending in Committee')]"
      ]
     },
     "execution_count": 119,
     "metadata": {},
     "output_type": "execute_result"
    }
   ],
   "source": [
    "parse_senate_bill_status(\n",
    "    SenateBill.SenateBillStatus(\n",
    "        date=datetime.date(2022, 10, 7), item=\"Pending in the Committee\"\n",
    "    ),\n",
    "    classes=[PendingInCommittee],\n",
    ")"
   ]
  },
  {
   "cell_type": "markdown",
   "metadata": {},
   "source": [
    "## Parsing All Statuses\n",
    "\n",
    "We then proceed to define all the remaining statuses below:\n"
   ]
  },
  {
   "cell_type": "markdown",
   "metadata": {},
   "source": [
    "### Introduced"
   ]
  },
  {
   "cell_type": "code",
   "execution_count": 108,
   "metadata": {},
   "outputs": [],
   "source": [
    "# | export\n",
    "class Introduced(SenateBill.SenateBillStatus):\n",
    "    \"\"\"\n",
    "    No matter where a legislative proposal originates, it can be introduced only by a\n",
    "    member of Congress. In the Senate, a member may introduce any of several types of\n",
    "    bills and resolutions by filing it with the Office of the Secretary.\n",
    "\n",
    "    [Source](https://legacy.senate.gov.ph/about/legpro.asp#Introduction_of_Bills)\n",
    "    \"\"\"\n",
    "\n",
    "    name: str = \"Introduced by a Senator\"\n",
    "    senator: Senator\n",
    "\n",
    "    @classmethod\n",
    "    def parse(cls, h):\n",
    "        if h.item.startswith(\"Introduced by Senator \"):\n",
    "            return (\n",
    "                cls(\n",
    "                    **h.dict(),\n",
    "                    senator=Senator(\n",
    "                        name=(\n",
    "                            h.item.replace(\"Introduced by Senator \", \"\").replace(\n",
    "                                \";\", \"\"\n",
    "                            )\n",
    "                        )\n",
    "                    )\n",
    "                ),\n",
    "                True,\n",
    "            )\n",
    "        return (None, True)"
   ]
  },
  {
   "cell_type": "code",
   "execution_count": 109,
   "metadata": {},
   "outputs": [
    {
     "data": {
      "text/plain": [
       "(Introduced(date=datetime.date(2022, 10, 11), item='Introduced by Senator JINGGOY P. EJERCITO-ESTRADA;', name='Introduced by a Senator', senator=Senator(name='JINGGOY P. EJERCITO-ESTRADA')),\n",
       " True)"
      ]
     },
     "execution_count": 109,
     "metadata": {},
     "output_type": "execute_result"
    }
   ],
   "source": [
    "test_parsing(Introduced, \"Introduced by Senator JINGGOY P. EJERCITO-ESTRADA;\")"
   ]
  },
  {
   "cell_type": "markdown",
   "metadata": {},
   "source": [
    "### First Reading"
   ]
  },
  {
   "cell_type": "code",
   "execution_count": 12,
   "metadata": {},
   "outputs": [],
   "source": [
    "# | export\n",
    "class FirstReading(SenateBill.SenateBillStatus):\n",
    "    \"\"\"\n",
    "    Once a measure has been introduced and given a number, it is read and referred to an\n",
    "    appropriate committee. It must be noted that during the reading of the bill, only\n",
    "    the title and the author is read on the floor. The Senate President is responsible\n",
    "    for referring bills introduced to appropriate committees.\n",
    "\n",
    "    The jurisdictions of the Standing Committees are spelled out in Rule X, Section 13\n",
    "    of the Rules of the Senate. For example, if a bill involves matters relating to\n",
    "    agriculture, food production and agri-business, it must be referred to the\n",
    "    Committee on Agriculture and Food.\n",
    "\n",
    "    [Source](https://legacy.senate.gov.ph/about/legpro.asp#Bill_Referrals)\n",
    "    \"\"\"\n",
    "\n",
    "    name: str = \"Read on First Reading and Referred to Committee\"\n",
    "    committees: List[SenateCommittee]\n",
    "\n",
    "    @classmethod\n",
    "    def parse(cls, h):\n",
    "        slug1 = \"Read on First Reading and Referred to the Committee on \"\n",
    "        slug2 = \"Read on First Reading and Referred to the Committee(s) on \"\n",
    "        slug3 = \"Read on First Reading and referred to the Committee(s) on \"\n",
    "        slug4 = \"Read on First Reading and Referred to the Committees on \"\n",
    "        if h.item.startswith(slug1):\n",
    "            committee = SenateCommittee(name=h.item.replace(slug1, \"\").replace(\";\", \"\"))\n",
    "            return (cls(**h.dict(), committees=[committee]), True)\n",
    "        if (\n",
    "            h.item.startswith(slug2)\n",
    "            or h.item.startswith(slug3)\n",
    "            or h.item.startswith(slug4)\n",
    "        ):\n",
    "            committees = h.item.replace(slug2, \"\").replace(slug3, \"\").replace(slug4, \"\")\n",
    "            committees = re.split(\"[ ]*and[ ]*|[ ]*;[ ]*\", committees)\n",
    "            committees = [\n",
    "                SenateCommittee(name=name) for name in committees if name != \"\"\n",
    "            ]\n",
    "            return (cls(**h.dict(), committees=committees), True)\n",
    "        return (None, True)"
   ]
  },
  {
   "cell_type": "code",
   "execution_count": 13,
   "metadata": {},
   "outputs": [
    {
     "data": {
      "text/plain": [
       "(FirstReading(date=datetime.date(2022, 10, 11), item='Read on First Reading and Referred to the Committee on JUSTICE AND HUMAN RIGHTS;', name='Read on First Reading and Referred to Committee', committees=[SenateCommittee(name='JUSTICE AND HUMAN RIGHTS')]),\n",
       " True)"
      ]
     },
     "execution_count": 13,
     "metadata": {},
     "output_type": "execute_result"
    }
   ],
   "source": [
    "test_parsing(\n",
    "    FirstReading,\n",
    "    \"Read on First Reading and Referred to the Committee on JUSTICE AND HUMAN RIGHTS;\",\n",
    ")"
   ]
  },
  {
   "cell_type": "code",
   "execution_count": 14,
   "metadata": {},
   "outputs": [
    {
     "data": {
      "text/plain": [
       "(FirstReading(date=datetime.date(2022, 10, 11), item='Read on First Reading and Referred to the Committee(s) on EDUCATION, ARTS AND CULTURE; and FINANCE;', name='Read on First Reading and Referred to Committee', committees=[SenateCommittee(name='EDUCATION, ARTS AND CULTURE'), SenateCommittee(name='FINANCE')]),\n",
       " True)"
      ]
     },
     "execution_count": 14,
     "metadata": {},
     "output_type": "execute_result"
    }
   ],
   "source": [
    "test_parsing(\n",
    "    FirstReading,\n",
    "    \"Read on First Reading and Referred to the Committee(s) on EDUCATION, ARTS AND CULTURE; and FINANCE;\",\n",
    ")"
   ]
  },
  {
   "cell_type": "code",
   "execution_count": 15,
   "metadata": {},
   "outputs": [
    {
     "data": {
      "text/plain": [
       "(FirstReading(date=datetime.date(2022, 10, 11), item='Read on First Reading and Referred to the Committee(s) on LOCAL GOVERNMENT; CIVIL SERVICE, GOVERNMENT REORGANIZATION AND PROFESSIONAL REGULATION and FINANCE;', name='Read on First Reading and Referred to Committee', committees=[SenateCommittee(name='LOCAL GOVERNMENT'), SenateCommittee(name='CIVIL SERVICE, GOVERNMENT REORGANIZATION AND PROFESSIONAL REGULATION'), SenateCommittee(name='FINANCE')]),\n",
       " True)"
      ]
     },
     "execution_count": 15,
     "metadata": {},
     "output_type": "execute_result"
    }
   ],
   "source": [
    "test_parsing(\n",
    "    FirstReading,\n",
    "    \"Read on First Reading and Referred to the Committee(s) on LOCAL GOVERNMENT; CIVIL SERVICE, GOVERNMENT REORGANIZATION AND PROFESSIONAL REGULATION and FINANCE;\",\n",
    ")"
   ]
  },
  {
   "cell_type": "code",
   "execution_count": 16,
   "metadata": {},
   "outputs": [
    {
     "data": {
      "text/plain": [
       "(FirstReading(date=datetime.date(2022, 10, 11), item='Read on First Reading and referred to the Committee(s) on EDUCATION, ARTS AND CULTURE; and FINANCE;', name='Read on First Reading and Referred to Committee', committees=[SenateCommittee(name='EDUCATION, ARTS AND CULTURE'), SenateCommittee(name='FINANCE')]),\n",
       " True)"
      ]
     },
     "execution_count": 16,
     "metadata": {},
     "output_type": "execute_result"
    }
   ],
   "source": [
    "test_parsing(\n",
    "    FirstReading,\n",
    "    \"Read on First Reading and referred to the Committee(s) on EDUCATION, ARTS AND CULTURE; and FINANCE;\",\n",
    ")"
   ]
  },
  {
   "cell_type": "markdown",
   "metadata": {},
   "source": [
    "### Organizational Briefing"
   ]
  },
  {
   "cell_type": "code",
   "execution_count": 17,
   "metadata": {},
   "outputs": [],
   "source": [
    "# | export\n",
    "class OrganizationalBriefing(SenateBill.SenateBillStatus):\n",
    "    name: str = \"Organizational Briefing\"\n",
    "\n",
    "    @classmethod\n",
    "    def parse(cls, h):\n",
    "        if h.item == \"Conducted ORGANIZATIONAL MEETING/BRIEFING;\":\n",
    "            return (cls(**h.dict()), False)\n",
    "        return (None, True)"
   ]
  },
  {
   "cell_type": "code",
   "execution_count": 18,
   "metadata": {},
   "outputs": [
    {
     "data": {
      "text/plain": [
       "(OrganizationalBriefing(date=datetime.date(2022, 10, 11), item='Conducted ORGANIZATIONAL MEETING/BRIEFING;', name='Organizational Briefing'),\n",
       " False)"
      ]
     },
     "execution_count": 18,
     "metadata": {},
     "output_type": "execute_result"
    }
   ],
   "source": [
    "test_parsing(OrganizationalBriefing, \"Conducted ORGANIZATIONAL MEETING/BRIEFING;\")"
   ]
  },
  {
   "cell_type": "markdown",
   "metadata": {},
   "source": [
    "### Pending in Committee"
   ]
  },
  {
   "cell_type": "code",
   "execution_count": 19,
   "metadata": {},
   "outputs": [],
   "source": [
    "# | export\n",
    "class PendingInCommittee(SenateBill.SenateBillStatus):\n",
    "    \"\"\"\n",
    "    The standing committees of the Senate, operating as “little legislatures,” determine\n",
    "    the fate of most proposals. There are committee hearings scheduled to discuss the\n",
    "    bills referred. Committee members and staff frequently are experts in the subjects\n",
    "    under their jurisdiction, and it is at the committee stage that a bill comes under\n",
    "    the sharpest scrutiny. If a measure is to be substantially revised, the revision\n",
    "    usually occurs at the committee level.\n",
    "\n",
    "    [Source](https://legacy.senate.gov.ph/about/legpro.asp#In_Committee)\n",
    "    \"\"\"\n",
    "\n",
    "    name: str = \"Pending in Committee\"\n",
    "\n",
    "    @classmethod\n",
    "    def parse(cls, h):\n",
    "        if h.item == \"Pending in the Committee\":\n",
    "            return (cls(**h.dict()), False)\n",
    "        return (None, True)"
   ]
  },
  {
   "cell_type": "code",
   "execution_count": 20,
   "metadata": {},
   "outputs": [
    {
     "data": {
      "text/plain": [
       "(PendingInCommittee(date=datetime.date(2022, 10, 11), item='Pending in the Committee', name='Pending in Committee'),\n",
       " False)"
      ]
     },
     "execution_count": 20,
     "metadata": {},
     "output_type": "execute_result"
    }
   ],
   "source": [
    "test_parsing(PendingInCommittee, \"Pending in the Committee\")"
   ]
  },
  {
   "cell_type": "markdown",
   "metadata": {},
   "source": [
    "### Committee Proceedings"
   ]
  },
  {
   "cell_type": "code",
   "execution_count": 21,
   "metadata": {},
   "outputs": [],
   "source": [
    "# | export\n",
    "class CommitteeProceedings(SenateBill.SenateBillStatus):\n",
    "    \"\"\"\n",
    "    The standing committees of the Senate, operating as “little legislatures,”\n",
    "    determine the fate of most proposals. There are committee hearings scheduled to\n",
    "    discuss the bills referred. Committee members and staff frequently are experts in\n",
    "    the subjects under their jurisdiction, and it is at the committee stage that a bill\n",
    "    comes under the sharpest scrutiny. If a measure is to be substantially revised, the\n",
    "    revision usually occurs at the committee level.\n",
    "\n",
    "    [Source](https://legacy.senate.gov.ph/about/legpro.asp#In_Committee)\n",
    "    \"\"\"\n",
    "\n",
    "    name: str = \"Conducted Committee Proceedings\"\n",
    "    joint: bool\n",
    "\n",
    "    @classmethod\n",
    "    def parse(cls, h):\n",
    "        if h.item == \"Conducted COMMITTEE MEETINGS/HEARINGS;\":\n",
    "            return (cls(**h.dict(), joint=False), False)\n",
    "        if h.item == \"Conducted JOINT COMMITTEE MEETINGS/HEARINGS;\":\n",
    "            return (cls(**h.dict(), joint=True), False)\n",
    "        return (None, True)"
   ]
  },
  {
   "cell_type": "code",
   "execution_count": 22,
   "metadata": {},
   "outputs": [
    {
     "data": {
      "text/plain": [
       "(CommitteeProceedings(date=datetime.date(2022, 10, 11), item='Conducted COMMITTEE MEETINGS/HEARINGS;', name='Conducted Committee Proceedings', joint=False),\n",
       " False)"
      ]
     },
     "execution_count": 22,
     "metadata": {},
     "output_type": "execute_result"
    }
   ],
   "source": [
    "test_parsing(CommitteeProceedings, \"Conducted COMMITTEE MEETINGS/HEARINGS;\")"
   ]
  },
  {
   "cell_type": "code",
   "execution_count": 23,
   "metadata": {},
   "outputs": [
    {
     "data": {
      "text/plain": [
       "(CommitteeProceedings(date=datetime.date(2022, 10, 11), item='Conducted JOINT COMMITTEE MEETINGS/HEARINGS;', name='Conducted Committee Proceedings', joint=True),\n",
       " False)"
      ]
     },
     "execution_count": 23,
     "metadata": {},
     "output_type": "execute_result"
    }
   ],
   "source": [
    "test_parsing(CommitteeProceedings, \"Conducted JOINT COMMITTEE MEETINGS/HEARINGS;\")"
   ]
  },
  {
   "cell_type": "markdown",
   "metadata": {},
   "source": [
    "### Committee Consultation"
   ]
  },
  {
   "cell_type": "code",
   "execution_count": 136,
   "metadata": {},
   "outputs": [],
   "source": [
    "# | export\n",
    "class CommitteeConsultation(SenateBill.SenateBillStatus):\n",
    "    \"\"\"\n",
    "    Committees may perform stakeholder consultations or ocular inspections to increase\n",
    "    their understanding of the right form of legislation.\n",
    "    \"\"\"\n",
    "\n",
    "    name: str = \"Conducted Committee Consultation or Ocular\"\n",
    "\n",
    "    @classmethod\n",
    "    def parse(cls, h):\n",
    "        if h.item == \"Conducted CONSULTATION/OCULAR;\":\n",
    "            return (cls(**h.dict()), False)\n",
    "        return (None, True)"
   ]
  },
  {
   "cell_type": "code",
   "execution_count": 137,
   "metadata": {},
   "outputs": [
    {
     "data": {
      "text/plain": [
       "(CommitteeConsultation(date=datetime.date(2022, 10, 11), item='Conducted CONSULTATION/OCULAR;', name='Conducted Committee Consultation or Ocular'),\n",
       " False)"
      ]
     },
     "execution_count": 137,
     "metadata": {},
     "output_type": "execute_result"
    }
   ],
   "source": [
    "test_parsing(CommitteeConsultation, \"Conducted CONSULTATION/OCULAR;\")"
   ]
  },
  {
   "cell_type": "markdown",
   "metadata": {},
   "source": [
    "### Archived"
   ]
  },
  {
   "cell_type": "code",
   "execution_count": 24,
   "metadata": {},
   "outputs": [],
   "source": [
    "# | export\n",
    "class Archived(SenateBill.SenateBillStatus):\n",
    "    name: str = \"Archived\"\n",
    "\n",
    "    @classmethod\n",
    "    def parse(cls, h):\n",
    "        if h.item == \"SENT TO THE ARCHIVES.\":\n",
    "            return (cls(**h.dict()), False)\n",
    "        if h.item == \"Sent to the Archives\":\n",
    "            return (cls(**h.dict()), False)\n",
    "        return (None, True)"
   ]
  },
  {
   "cell_type": "code",
   "execution_count": 25,
   "metadata": {},
   "outputs": [
    {
     "data": {
      "text/plain": [
       "(Archived(date=datetime.date(2022, 10, 11), item='SENT TO THE ARCHIVES.', name='Archived'),\n",
       " False)"
      ]
     },
     "execution_count": 25,
     "metadata": {},
     "output_type": "execute_result"
    }
   ],
   "source": [
    "test_parsing(Archived, \"SENT TO THE ARCHIVES.\")"
   ]
  },
  {
   "cell_type": "markdown",
   "metadata": {},
   "source": [
    "### Committee Report Calendared For Ordinary Business"
   ]
  },
  {
   "cell_type": "code",
   "execution_count": 26,
   "metadata": {},
   "outputs": [],
   "source": [
    "# | export\n",
    "class CommitteeReportCalendaredForOrdinaryBusiness(SenateBill.SenateBillStatus):\n",
    "    name: str = \"Committe Report Calendared for Ordinary Business\"\n",
    "\n",
    "    @classmethod\n",
    "    def parse(cls, h):\n",
    "        if h.item in (\n",
    "            \"Committee Report Calendared for Ordinary Business;\",\n",
    "            \"Committee Report calendared for Ordinary Business;\",\n",
    "        ):\n",
    "            return (cls(**h.dict()), False)\n",
    "        return (None, True)"
   ]
  },
  {
   "cell_type": "code",
   "execution_count": 27,
   "metadata": {},
   "outputs": [
    {
     "data": {
      "text/plain": [
       "(CommitteeReportCalendaredForOrdinaryBusiness(date=datetime.date(2022, 10, 11), item='Committee Report Calendared for Ordinary Business;', name='Committe Report Calendared for Ordinary Business'),\n",
       " False)"
      ]
     },
     "execution_count": 27,
     "metadata": {},
     "output_type": "execute_result"
    }
   ],
   "source": [
    "test_parsing(\n",
    "    CommitteeReportCalendaredForOrdinaryBusiness,\n",
    "    \"Committee Report Calendared for Ordinary Business;\",\n",
    ")"
   ]
  },
  {
   "cell_type": "markdown",
   "metadata": {},
   "source": [
    "### Technical Working Group"
   ]
  },
  {
   "cell_type": "code",
   "execution_count": 28,
   "metadata": {},
   "outputs": [],
   "source": [
    "# | export\n",
    "class TechnicalWorkingGroup(SenateBill.SenateBillStatus):\n",
    "    \"\"\"\n",
    "    A technical working group is an ad hoc group of experts on a particular topic who\n",
    "    work together on specific goals.\n",
    "    \"\"\"\n",
    "\n",
    "    name: str = \"Conducted a Technical Working Group\"\n",
    "\n",
    "    @classmethod\n",
    "    def parse(cls, h):\n",
    "        if h.item == \"Conducted TECHNICAL WORKING GROUP;\":\n",
    "            return (cls(**h.dict()), False)\n",
    "        return (None, True)"
   ]
  },
  {
   "cell_type": "code",
   "execution_count": 29,
   "metadata": {},
   "outputs": [
    {
     "data": {
      "text/plain": [
       "(TechnicalWorkingGroup(date=datetime.date(2022, 10, 11), item='Conducted TECHNICAL WORKING GROUP;', name='Conducted a Technical Working Group'),\n",
       " False)"
      ]
     },
     "execution_count": 29,
     "metadata": {},
     "output_type": "execute_result"
    }
   ],
   "source": [
    "test_parsing(TechnicalWorkingGroup, \"Conducted TECHNICAL WORKING GROUP;\")"
   ]
  },
  {
   "cell_type": "markdown",
   "metadata": {},
   "source": [
    "### Submitted Committee Report"
   ]
  },
  {
   "cell_type": "code",
   "execution_count": 30,
   "metadata": {},
   "outputs": [],
   "source": [
    "# | export\n",
    "class SubmittedCommitteeReport(SenateBill.SenateBillStatus):\n",
    "    \"\"\"\n",
    "    A committee report describes the purpose and scope of the bill, explains any\n",
    "    committee amendments, indicates proposed changes in existing law and such other\n",
    "    materials that are relevant. Moreover, reports are numbered in the order in which\n",
    "    they are filed and printed.\n",
    "    \"\"\"\n",
    "\n",
    "    name: str = \"Submitted Committee Report\"\n",
    "\n",
    "    @classmethod\n",
    "    def parse(cls, h):\n",
    "        if h.item == \"Submitted said Committee Report to the Senate;\":\n",
    "            return (cls(**h.dict()), False)\n",
    "        return (None, True)"
   ]
  },
  {
   "cell_type": "markdown",
   "metadata": {},
   "source": [
    "### Consolidated or Substituted in Committee Report"
   ]
  },
  {
   "cell_type": "code",
   "execution_count": 152,
   "metadata": {},
   "outputs": [],
   "source": [
    "# | export\n",
    "class ConsolidatedOrSubstitutedInCommitteeReport(SenateBill.SenateBillStatus):\n",
    "    \"\"\"\n",
    "    In the Committee Report, a bill is combined with another bill or substituted with\n",
    "    another Senate Bill, effectively ending the life of this Senate Bill and continuing\n",
    "    it in another one.\n",
    "    \"\"\"\n",
    "\n",
    "    name: str = \"Consolidated or Substituted in Committee Report\"\n",
    "    substitute_bill: Optional[str]\n",
    "    committee_report: Optional[str]\n",
    "\n",
    "    @classmethod\n",
    "    def parse(cls, h):\n",
    "        if h.item == \"Consolidated/Substituted in the Committee Report\":\n",
    "            return (cls(**h.dict()), False)\n",
    "        slug1 = \"SUBSTITUTED BY \"\n",
    "        slug2 = \" UNDER C.R. NO. \"\n",
    "        if h.item.startswith(slug1) and h.item.find(slug2) > -1:\n",
    "            bill, report = h.item.split(slug2)\n",
    "            bill = bill.replace(slug1, \"\")\n",
    "            report = report.replace(\".\", \"\")\n",
    "            return (\n",
    "                cls(**h.dict(), substitute_bill=bill, committee_report=report),\n",
    "                True,\n",
    "            )\n",
    "        slug3 = \" UNDER COMMITTEE REPORT NO. \"\n",
    "        if h.item.startswith(slug1) and h.item.find(slug3) > -1:\n",
    "            bill, report = h.item.split(slug3)\n",
    "            bill = bill.replace(slug1, \"\")\n",
    "            report = report.replace(\".\", \"\")\n",
    "            return (\n",
    "                cls(**h.dict(), substitute_bill=bill, committee_report=report),\n",
    "                True,\n",
    "            )\n",
    "        if h.item.startswith(slug1):\n",
    "            bill = h.item.replace(slug1, \"\").replace(\".\", \"\")\n",
    "            return (\n",
    "                cls(**h.dict(), substitute_bill=bill),\n",
    "                True,\n",
    "            )\n",
    "        return (None, True)"
   ]
  },
  {
   "cell_type": "code",
   "execution_count": 142,
   "metadata": {},
   "outputs": [
    {
     "data": {
      "text/plain": [
       "(ConsolidatedOrSubstitutedInCommitteeReport(date=datetime.date(2022, 10, 11), item='Consolidated/Substituted in the Committee Report', name='Consolidated or Substituted in Committee Report', substitute_bill=None, committee_report=None),\n",
       " False)"
      ]
     },
     "execution_count": 142,
     "metadata": {},
     "output_type": "execute_result"
    }
   ],
   "source": [
    "test_parsing(\n",
    "    ConsolidatedOrSubstitutedInCommitteeReport,\n",
    "    \"Consolidated/Substituted in the Committee Report\",\n",
    ")"
   ]
  },
  {
   "cell_type": "code",
   "execution_count": 147,
   "metadata": {},
   "outputs": [
    {
     "data": {
      "text/plain": [
       "(ConsolidatedOrSubstitutedInCommitteeReport(date=datetime.date(2022, 10, 11), item='SUBSTITUTED BY SBN-2712 UNDER C.R. NO. 117.', name='Consolidated or Substituted in Committee Report', substitute_bill='SBN-2712', committee_report='117'),\n",
       " False)"
      ]
     },
     "execution_count": 147,
     "metadata": {},
     "output_type": "execute_result"
    }
   ],
   "source": [
    "test_parsing(\n",
    "    ConsolidatedOrSubstitutedInCommitteeReport,\n",
    "    \"SUBSTITUTED BY SBN-2712 UNDER C.R. NO. 117.\",\n",
    ")"
   ]
  },
  {
   "cell_type": "code",
   "execution_count": 149,
   "metadata": {},
   "outputs": [
    {
     "data": {
      "text/plain": [
       "(ConsolidatedOrSubstitutedInCommitteeReport(date=datetime.date(2022, 10, 11), item='SUBSTITUTED BY SBN-1592 UNDER COMMITTEE REPORT NO. 164.', name='Consolidated or Substituted in Committee Report', substitute_bill='SBN-1592', committee_report='164'),\n",
       " False)"
      ]
     },
     "execution_count": 149,
     "metadata": {},
     "output_type": "execute_result"
    }
   ],
   "source": [
    "test_parsing(\n",
    "    ConsolidatedOrSubstitutedInCommitteeReport,\n",
    "    \"SUBSTITUTED BY SBN-1592 UNDER COMMITTEE REPORT NO. 164.\",\n",
    ")"
   ]
  },
  {
   "cell_type": "markdown",
   "metadata": {},
   "source": [
    "### Approved on Second Reading"
   ]
  },
  {
   "cell_type": "code",
   "execution_count": 131,
   "metadata": {},
   "outputs": [],
   "source": [
    "# | export\n",
    "class ApprovedOnSecondReading(SenateBill.SenateBillStatus):\n",
    "    name: str = \"Approved On Second Reading\"\n",
    "    with_amendments: bool\n",
    "    considered: Optional[str]\n",
    "\n",
    "    @classmethod\n",
    "    def parse(cls, h):\n",
    "        if h.item in (\n",
    "            \"Approved on Second Reading with Amendments;\",\n",
    "            \"Approved on Second Reading with amendments;\",\n",
    "        ):\n",
    "            return (cls(**h.dict(), with_amendments=True), False)\n",
    "        if h.item == \"Approved on Second Reading without Amendment;\":\n",
    "            return (cls(**h.dict(), with_amendments=False), False)\n",
    "        slug1 = \"Approved on Second Reading with Amendments, taking into consideration \"\n",
    "        if h.item.startswith(slug1):\n",
    "            considered = h.item.replace(slug1, \"\")\n",
    "            return (cls(**h.dict(), with_amendments=True, considered=considered), True)\n",
    "        return (None, True)"
   ]
  },
  {
   "cell_type": "code",
   "execution_count": 132,
   "metadata": {},
   "outputs": [
    {
     "data": {
      "text/plain": [
       "(ApprovedOnSecondReading(date=datetime.date(2022, 10, 11), item='Approved on Second Reading with Amendments;', name='Approved On Second Reading', with_amendments=True, considered=None),\n",
       " False)"
      ]
     },
     "execution_count": 132,
     "metadata": {},
     "output_type": "execute_result"
    }
   ],
   "source": [
    "test_parsing(ApprovedOnSecondReading, \"Approved on Second Reading with Amendments;\")"
   ]
  },
  {
   "cell_type": "code",
   "execution_count": 35,
   "metadata": {},
   "outputs": [
    {
     "data": {
      "text/plain": [
       "(ApprovedOnSecondReading(date=datetime.date(2022, 10, 11), item='Approved on Second Reading without Amendment;', name='Approved On Second Reading', with_amendments=False, considered=None),\n",
       " False)"
      ]
     },
     "execution_count": 35,
     "metadata": {},
     "output_type": "execute_result"
    }
   ],
   "source": [
    "test_parsing(ApprovedOnSecondReading, \"Approved on Second Reading without Amendment;\")"
   ]
  },
  {
   "cell_type": "markdown",
   "metadata": {},
   "source": [
    "### Transferred to Calendar for Special Order"
   ]
  },
  {
   "cell_type": "code",
   "execution_count": 36,
   "metadata": {},
   "outputs": [],
   "source": [
    "# | export\n",
    "class TransferredToCalendarForSpecialOrder(SenateBill.SenateBillStatus):\n",
    "    name: str = \"Transferred to Calendar for Special Order\"\n",
    "\n",
    "    @classmethod\n",
    "    def parse(cls, h):\n",
    "        if h.item in (\n",
    "            \"Transferred from the Calendar for Ordinary Business to the Calendar for Special Order;\",\n",
    "            \"Transferred from Ordinary Business to Special Order;\",\n",
    "            \"Assigned for Consideration by Special Order;\",\n",
    "            \"Assigned for consideration by Special Order;\",\n",
    "        ):\n",
    "            return (cls(**h.dict()), False)\n",
    "        return (None, True)"
   ]
  },
  {
   "cell_type": "code",
   "execution_count": 37,
   "metadata": {},
   "outputs": [
    {
     "data": {
      "text/plain": [
       "(TransferredToCalendarForSpecialOrder(date=datetime.date(2022, 10, 11), item='Transferred from the Calendar for Ordinary Business to the Calendar for Special Order;', name='Transferred to Calendar for Special Order'),\n",
       " False)"
      ]
     },
     "execution_count": 37,
     "metadata": {},
     "output_type": "execute_result"
    }
   ],
   "source": [
    "test_parsing(\n",
    "    TransferredToCalendarForSpecialOrder,\n",
    "    \"Transferred from the Calendar for Ordinary Business to the Calendar for Special Order;\",\n",
    ")"
   ]
  },
  {
   "cell_type": "markdown",
   "metadata": {},
   "source": [
    "### Period of Interpellation Closed"
   ]
  },
  {
   "cell_type": "code",
   "execution_count": 150,
   "metadata": {},
   "outputs": [],
   "source": [
    "# | export\n",
    "class PeriodOfInterpellationClosed(SenateBill.SenateBillStatus):\n",
    "    name: str = \"Period of Interpellation Closed\"\n",
    "\n",
    "    @classmethod\n",
    "    def parse(cls, h):\n",
    "        if h.item in (\n",
    "            \"Period of interpellation closed;\",\n",
    "            \"Period of interpellations closed;\",\n",
    "        ):\n",
    "            return (cls(**h.dict()), False)\n",
    "        return (None, True)"
   ]
  },
  {
   "cell_type": "code",
   "execution_count": 39,
   "metadata": {},
   "outputs": [
    {
     "data": {
      "text/plain": [
       "(PeriodOfInterpellationClosed(date=datetime.date(2022, 10, 11), item='Period of interpellation closed;', name='Period of Interpellation Closed'),\n",
       " False)"
      ]
     },
     "execution_count": 39,
     "metadata": {},
     "output_type": "execute_result"
    }
   ],
   "source": [
    "test_parsing(PeriodOfInterpellationClosed, \"Period of interpellation closed;\")"
   ]
  },
  {
   "cell_type": "markdown",
   "metadata": {},
   "source": [
    "### Sponsorship Speech"
   ]
  },
  {
   "cell_type": "code",
   "execution_count": 40,
   "metadata": {},
   "outputs": [],
   "source": [
    "# | export\n",
    "class SponsorshipSpeech(SenateBill.SenateBillStatus):\n",
    "    name: str = \"Sponsorship Speech\"\n",
    "    senators: List[Senator]\n",
    "\n",
    "    @classmethod\n",
    "    def parse(cls, h):\n",
    "        slug1 = \"Sponsorship speech of Senator(s) \"\n",
    "        if h.item.startswith(slug1):\n",
    "            senators = (\n",
    "                h.item.replace(slug1, \"\")\n",
    "                .replace(\" on the Conference Committee Report;\", \"\")\n",
    "                .replace(\" on the conference committee report;\", \"\")\n",
    "            )\n",
    "            senators = [Senator(name=name) for name in senators.split(\" and \")]\n",
    "            return (cls(**h.dict(), senators=senators), True)\n",
    "        slug2 = \"Sponsorship speech on the Conference Committee Report of Senator \"\n",
    "        if h.item.startswith(slug2):\n",
    "            senators = [Senator(name=h.item.replace(slug2, \"\").replace(\";\", \"\"))]\n",
    "            return (cls(**h.dict(), senators=senators), True)\n",
    "        slug3 = \"Sponsorship speech on the conference committee report of Senator \"\n",
    "        if h.item.startswith(slug3):\n",
    "            senators = [Senator(name=h.item.replace(slug3, \"\").replace(\";\", \"\"))]\n",
    "            return (cls(**h.dict(), senators=senators), True)\n",
    "        slug4 = \"Sponsorship speech of Senator \"\n",
    "        if h.item.startswith(slug4):\n",
    "            senators = [\n",
    "                Senator(\n",
    "                    name=(\n",
    "                        h.item.replace(slug4, \"\")\n",
    "                        .replace(\";\", \"\")\n",
    "                        .replace(\" on the conference committee report\", \"\")\n",
    "                        .replace(\" on the Conference Committee Report\", \"\")\n",
    "                    )\n",
    "                )\n",
    "            ]\n",
    "            return (cls(**h.dict(), senators=senators), True)\n",
    "        slug5 = \"Sponsorship speech delivered by Senator \"\n",
    "        if h.item.startswith(slug5):\n",
    "            senators = [Senator(name=h.item.replace(slug5, \"\").replace(\";\", \"\"))]\n",
    "            return (cls(**h.dict(), senators=senators), True)\n",
    "        slug6 = \"Sponsorship Speech on the Conference Committee Report of Senator \"\n",
    "        slug7 = \"Sponsorship speech on the  Conference Committee Report of Senator \"\n",
    "        if h.item.startswith(slug6) or h.item.startswith(slug7):\n",
    "            senators = [\n",
    "                Senator(\n",
    "                    name=(h.item.replace(slug6, \"\").replace(slug7, \"\").replace(\";\", \"\"))\n",
    "                )\n",
    "            ]\n",
    "            return (cls(**h.dict(), senators=senators), True)\n",
    "        slug8 = \"Co-sponsorship speech of Senator \"\n",
    "        if h.item.startswith(slug8):\n",
    "            senators = [Senator(name=h.item.replace(slug8, \"\").replace(\";\", \"\"))]\n",
    "            return (cls(**h.dict(), senators=senators), True)\n",
    "        return (None, True)"
   ]
  },
  {
   "cell_type": "code",
   "execution_count": 41,
   "metadata": {},
   "outputs": [
    {
     "data": {
      "text/plain": [
       "(SponsorshipSpeech(date=datetime.date(2022, 10, 11), item='Sponsorship speech of Senator(s) BENIGNO S. AQUINO III and JINGGOY P. EJERCITO-ESTRADA;', name='Sponsorship Speech', senators=[Senator(name='BENIGNO S. AQUINO III'), Senator(name='JINGGOY P. EJERCITO-ESTRADA;')]),\n",
       " True)"
      ]
     },
     "execution_count": 41,
     "metadata": {},
     "output_type": "execute_result"
    }
   ],
   "source": [
    "test_parsing(\n",
    "    SponsorshipSpeech,\n",
    "    \"Sponsorship speech of Senator(s) BENIGNO S. AQUINO III and JINGGOY P. EJERCITO-ESTRADA;\",\n",
    ")"
   ]
  },
  {
   "cell_type": "code",
   "execution_count": 42,
   "metadata": {},
   "outputs": [
    {
     "data": {
      "text/plain": [
       "(SponsorshipSpeech(date=datetime.date(2022, 10, 11), item='Sponsorship speech of Senator(s) EDGARDO J. ANGARA on the Conference Committee Report;', name='Sponsorship Speech', senators=[Senator(name='EDGARDO J. ANGARA')]),\n",
       " True)"
      ]
     },
     "execution_count": 42,
     "metadata": {},
     "output_type": "execute_result"
    }
   ],
   "source": [
    "test_parsing(\n",
    "    SponsorshipSpeech,\n",
    "    \"Sponsorship speech of Senator(s) EDGARDO J. ANGARA on the Conference Committee Report;\",\n",
    ")"
   ]
  },
  {
   "cell_type": "code",
   "execution_count": 43,
   "metadata": {},
   "outputs": [
    {
     "data": {
      "text/plain": [
       "(SponsorshipSpeech(date=datetime.date(2022, 10, 11), item='Sponsorship speech on the Conference Committee Report of Senator JOEL VILLANUEVA;', name='Sponsorship Speech', senators=[Senator(name='JOEL VILLANUEVA')]),\n",
       " True)"
      ]
     },
     "execution_count": 43,
     "metadata": {},
     "output_type": "execute_result"
    }
   ],
   "source": [
    "test_parsing(\n",
    "    SponsorshipSpeech,\n",
    "    \"Sponsorship speech on the Conference Committee Report of Senator JOEL VILLANUEVA;\",\n",
    ")"
   ]
  },
  {
   "cell_type": "code",
   "execution_count": 44,
   "metadata": {},
   "outputs": [
    {
     "data": {
      "text/plain": [
       "(SponsorshipSpeech(date=datetime.date(2022, 10, 11), item='Sponsorship speech on the conference committee report of Senator EMMANUEL \"MANNY\" D. PACQUIAO;', name='Sponsorship Speech', senators=[Senator(name='EMMANUEL \"MANNY\" D. PACQUIAO')]),\n",
       " True)"
      ]
     },
     "execution_count": 44,
     "metadata": {},
     "output_type": "execute_result"
    }
   ],
   "source": [
    "test_parsing(\n",
    "    SponsorshipSpeech,\n",
    "    'Sponsorship speech on the conference committee report of Senator EMMANUEL \"MANNY\" D. PACQUIAO;',\n",
    ")"
   ]
  },
  {
   "cell_type": "code",
   "execution_count": 45,
   "metadata": {},
   "outputs": [
    {
     "data": {
      "text/plain": [
       "(SponsorshipSpeech(date=datetime.date(2022, 10, 11), item='Sponsorship speech of Senator RONALD \"BATO\" DELA ROSA on the conference committee report;', name='Sponsorship Speech', senators=[Senator(name='RONALD \"BATO\" DELA ROSA')]),\n",
       " True)"
      ]
     },
     "execution_count": 45,
     "metadata": {},
     "output_type": "execute_result"
    }
   ],
   "source": [
    "test_parsing(\n",
    "    SponsorshipSpeech,\n",
    "    'Sponsorship speech of Senator RONALD \"BATO\" DELA ROSA on the conference committee report;',\n",
    ")"
   ]
  },
  {
   "cell_type": "code",
   "execution_count": 46,
   "metadata": {},
   "outputs": [
    {
     "data": {
      "text/plain": [
       "(SponsorshipSpeech(date=datetime.date(2022, 10, 11), item='Sponsorship speech delivered by Senator SONNY ANGARA;', name='Sponsorship Speech', senators=[Senator(name='SONNY ANGARA')]),\n",
       " True)"
      ]
     },
     "execution_count": 46,
     "metadata": {},
     "output_type": "execute_result"
    }
   ],
   "source": [
    "test_parsing(\n",
    "    SponsorshipSpeech,\n",
    "    \"Sponsorship speech delivered by Senator SONNY ANGARA;\",\n",
    ")"
   ]
  },
  {
   "cell_type": "code",
   "execution_count": 47,
   "metadata": {},
   "outputs": [
    {
     "data": {
      "text/plain": [
       "(SponsorshipSpeech(date=datetime.date(2022, 10, 11), item='Sponsorship Speech on the Conference Committee Report of Senator RISA HONTIVEROS;', name='Sponsorship Speech', senators=[Senator(name='RISA HONTIVEROS')]),\n",
       " True)"
      ]
     },
     "execution_count": 47,
     "metadata": {},
     "output_type": "execute_result"
    }
   ],
   "source": [
    "test_parsing(\n",
    "    SponsorshipSpeech,\n",
    "    \"Sponsorship Speech on the Conference Committee Report of Senator RISA HONTIVEROS;\",\n",
    ")"
   ]
  },
  {
   "cell_type": "markdown",
   "metadata": {},
   "source": [
    "### Sponsorship Speech Inserted into Record"
   ]
  },
  {
   "cell_type": "code",
   "execution_count": 48,
   "metadata": {},
   "outputs": [],
   "source": [
    "# | export\n",
    "class SponsorshipSpeechInsertedIntoRecord(SenateBill.SenateBillStatus):\n",
    "    name: str = \"Sponsorship Speech Inserted into Record\"\n",
    "\n",
    "    @classmethod\n",
    "    def parse(cls, h):\n",
    "        if h.item == \"Sponsorship speech inserted into the record;\":\n",
    "            return (cls(**h.dict()), False)\n",
    "        return (None, True)"
   ]
  },
  {
   "cell_type": "code",
   "execution_count": 49,
   "metadata": {},
   "outputs": [
    {
     "data": {
      "text/plain": [
       "(SponsorshipSpeechInsertedIntoRecord(date=datetime.date(2022, 10, 11), item='Sponsorship speech inserted into the record;', name='Sponsorship Speech Inserted into Record'),\n",
       " False)"
      ]
     },
     "execution_count": 49,
     "metadata": {},
     "output_type": "execute_result"
    }
   ],
   "source": [
    "test_parsing(\n",
    "    SponsorshipSpeechInsertedIntoRecord,\n",
    "    \"Sponsorship speech inserted into the record;\",\n",
    ")"
   ]
  },
  {
   "cell_type": "markdown",
   "metadata": {},
   "source": [
    "### Approved on Third Reading"
   ]
  },
  {
   "cell_type": "code",
   "execution_count": 133,
   "metadata": {},
   "outputs": [],
   "source": [
    "# | export\n",
    "class ApprovedOnThirdReading(SenateBill.SenateBillStatus):\n",
    "    name: str = \"Approved on Third Reading\"\n",
    "\n",
    "    @classmethod\n",
    "    def parse(cls, h):\n",
    "        if h.item in (\"Approved on Third Reading;\", \"Approved on Third Reading\"):\n",
    "            return (cls(**h.dict()), False)\n",
    "        return (None, True)"
   ]
  },
  {
   "cell_type": "code",
   "execution_count": 51,
   "metadata": {},
   "outputs": [
    {
     "data": {
      "text/plain": [
       "(ApprovedOnThirdReading(date=datetime.date(2022, 10, 11), item='Approved on Third Reading;', name='Approved on Third Reading'),\n",
       " False)"
      ]
     },
     "execution_count": 51,
     "metadata": {},
     "output_type": "execute_result"
    }
   ],
   "source": [
    "test_parsing(\n",
    "    ApprovedOnThirdReading,\n",
    "    \"Approved on Third Reading;\",\n",
    ")"
   ]
  },
  {
   "cell_type": "markdown",
   "metadata": {},
   "source": [
    "### Sent to the House of Representatives"
   ]
  },
  {
   "cell_type": "code",
   "execution_count": 52,
   "metadata": {},
   "outputs": [],
   "source": [
    "# | export\n",
    "class SentToHouseOfRepresentatives(SenateBill.SenateBillStatus):\n",
    "    name: str = \"Sent to the House of Representatives\"\n",
    "\n",
    "    @classmethod\n",
    "    def parse(cls, h):\n",
    "        if h.item == \"Sent to the House of Representatives requesting for concurrence;\":\n",
    "            return (cls(**h.dict()), False)\n",
    "        return (None, True)"
   ]
  },
  {
   "cell_type": "code",
   "execution_count": 53,
   "metadata": {},
   "outputs": [
    {
     "data": {
      "text/plain": [
       "(SentToHouseOfRepresentatives(date=datetime.date(2022, 10, 11), item='Sent to the House of Representatives requesting for concurrence;', name='Sent to the House of Representatives'),\n",
       " False)"
      ]
     },
     "execution_count": 53,
     "metadata": {},
     "output_type": "execute_result"
    }
   ],
   "source": [
    "test_parsing(\n",
    "    SentToHouseOfRepresentatives,\n",
    "    \"Sent to the House of Representatives requesting for concurrence;\",\n",
    ")"
   ]
  },
  {
   "cell_type": "markdown",
   "metadata": {},
   "source": [
    "### Individual amendments opened"
   ]
  },
  {
   "cell_type": "code",
   "execution_count": 54,
   "metadata": {},
   "outputs": [],
   "source": [
    "# | export\n",
    "class IndividualAmendmentsOpened(SenateBill.SenateBillStatus):\n",
    "    name: str = \"Individual amendments opened\"\n",
    "\n",
    "    @classmethod\n",
    "    def parse(cls, h):\n",
    "        if h.item == \"Period of individual amendments;\":\n",
    "            return (cls(**h.dict()), False)\n",
    "        if h.item == \"Period of amendment closed;\":\n",
    "            return (cls(**h.dict()), True)\n",
    "        return (None, True)"
   ]
  },
  {
   "cell_type": "code",
   "execution_count": 55,
   "metadata": {},
   "outputs": [
    {
     "data": {
      "text/plain": [
       "(IndividualAmendmentsOpened(date=datetime.date(2022, 10, 11), item='Period of individual amendments;', name='Individual amendments opened'),\n",
       " False)"
      ]
     },
     "execution_count": 55,
     "metadata": {},
     "output_type": "execute_result"
    }
   ],
   "source": [
    "test_parsing(\n",
    "    IndividualAmendmentsOpened,\n",
    "    \"Period of individual amendments;\",\n",
    ")"
   ]
  },
  {
   "cell_type": "markdown",
   "metadata": {},
   "source": [
    "### Individual amendments closed"
   ]
  },
  {
   "cell_type": "code",
   "execution_count": 56,
   "metadata": {},
   "outputs": [],
   "source": [
    "# | export\n",
    "class IndividualAmendmentsClosed(SenateBill.SenateBillStatus):\n",
    "    name: str = \"Individual amendments closed\"\n",
    "\n",
    "    @classmethod\n",
    "    def parse(cls, h):\n",
    "        if h.item == \"Period of individual amendments closed;\":\n",
    "            return (cls(**h.dict()), False)\n",
    "        if h.item == \"Period of amendments closed;\":\n",
    "            return (cls(**h.dict()), True)\n",
    "        return (None, True)"
   ]
  },
  {
   "cell_type": "code",
   "execution_count": 57,
   "metadata": {},
   "outputs": [
    {
     "data": {
      "text/plain": [
       "(IndividualAmendmentsClosed(date=datetime.date(2022, 10, 11), item='Period of individual amendments closed;', name='Individual amendments closed'),\n",
       " False)"
      ]
     },
     "execution_count": 57,
     "metadata": {},
     "output_type": "execute_result"
    }
   ],
   "source": [
    "test_parsing(\n",
    "    IndividualAmendmentsClosed,\n",
    "    \"Period of individual amendments closed;\",\n",
    ")"
   ]
  },
  {
   "cell_type": "markdown",
   "metadata": {},
   "source": [
    "### Committee amendments opened"
   ]
  },
  {
   "cell_type": "code",
   "execution_count": 58,
   "metadata": {},
   "outputs": [],
   "source": [
    "# | export\n",
    "class CommitteeAmendmentsOpened(SenateBill.SenateBillStatus):\n",
    "    name: str = \"Committee amendments opened\"\n",
    "\n",
    "    @classmethod\n",
    "    def parse(cls, h):\n",
    "        if h.item == \"Period of committee amendments;\":\n",
    "            return (cls(**h.dict()), False)\n",
    "        if h.item == \"Period of amendment closed;\":\n",
    "            return (cls(**h.dict()), True)\n",
    "        return (None, True)"
   ]
  },
  {
   "cell_type": "code",
   "execution_count": 59,
   "metadata": {},
   "outputs": [
    {
     "data": {
      "text/plain": [
       "(CommitteeAmendmentsOpened(date=datetime.date(2022, 10, 11), item='Period of committee amendments;', name='Committee amendments opened'),\n",
       " False)"
      ]
     },
     "execution_count": 59,
     "metadata": {},
     "output_type": "execute_result"
    }
   ],
   "source": [
    "test_parsing(\n",
    "    CommitteeAmendmentsOpened,\n",
    "    \"Period of committee amendments;\",\n",
    ")"
   ]
  },
  {
   "cell_type": "markdown",
   "metadata": {},
   "source": [
    "### Committee amendments closed"
   ]
  },
  {
   "cell_type": "code",
   "execution_count": 60,
   "metadata": {},
   "outputs": [],
   "source": [
    "# | export\n",
    "class CommitteeAmendmentsClosed(SenateBill.SenateBillStatus):\n",
    "    name: str = \"Committee amendments closed\"\n",
    "\n",
    "    @classmethod\n",
    "    def parse(cls, h):\n",
    "        if h.item == \"Period of committee amendments closed;\":\n",
    "            return (cls(**h.dict()), False)\n",
    "        if h.item == \"Period of amendments closed;\":\n",
    "            return (cls(**h.dict()), True)\n",
    "        return (None, True)"
   ]
  },
  {
   "cell_type": "code",
   "execution_count": 61,
   "metadata": {},
   "outputs": [
    {
     "data": {
      "text/plain": [
       "(CommitteeAmendmentsClosed(date=datetime.date(2022, 10, 11), item='Period of committee amendments closed;', name='Committee amendments closed'),\n",
       " False)"
      ]
     },
     "execution_count": 61,
     "metadata": {},
     "output_type": "execute_result"
    }
   ],
   "source": [
    "test_parsing(\n",
    "    CommitteeAmendmentsClosed,\n",
    "    \"Period of committee amendments closed;\",\n",
    ")"
   ]
  },
  {
   "cell_type": "markdown",
   "metadata": {},
   "source": [
    "### Printed copies distributed to Senators"
   ]
  },
  {
   "cell_type": "code",
   "execution_count": 62,
   "metadata": {},
   "outputs": [],
   "source": [
    "# | export\n",
    "class CopiesDistributed(SenateBill.SenateBillStatus):\n",
    "    name: str = \"Copies Distributed to Senators\"\n",
    "\n",
    "    @classmethod\n",
    "    def parse(cls, h):\n",
    "        if h.item in (\n",
    "            \"Printed copies were distributed to the Senators;\",\n",
    "            \"Printed Copies were distributed to the Senators;\",\n",
    "            \"Printed copies were electronically distributed to the Senators;\",\n",
    "        ):\n",
    "            return (cls(**h.dict()), False)\n",
    "        return (None, True)"
   ]
  },
  {
   "cell_type": "code",
   "execution_count": 63,
   "metadata": {},
   "outputs": [
    {
     "data": {
      "text/plain": [
       "(CopiesDistributed(date=datetime.date(2022, 10, 11), item='Printed copies were distributed to the Senators;', name='Copies Distributed to Senators'),\n",
       " False)"
      ]
     },
     "execution_count": 63,
     "metadata": {},
     "output_type": "execute_result"
    }
   ],
   "source": [
    "test_parsing(\n",
    "    CopiesDistributed,\n",
    "    \"Printed copies were distributed to the Senators;\",\n",
    ")"
   ]
  },
  {
   "cell_type": "markdown",
   "metadata": {},
   "source": [
    "### Consolidated with Approved Bill"
   ]
  },
  {
   "cell_type": "code",
   "execution_count": 64,
   "metadata": {},
   "outputs": [],
   "source": [
    "# | export\n",
    "class ConsolidatedWithApprovedBill(SenateBill.SenateBillStatus):\n",
    "    name: str = \"Consolidated with Approved Bill\"\n",
    "\n",
    "    @classmethod\n",
    "    def parse(cls, h):\n",
    "        if h.item == \"Consolidated with Approved Bill\":\n",
    "            return (cls(**h.dict()), False)\n",
    "        return (None, True)"
   ]
  },
  {
   "cell_type": "code",
   "execution_count": 65,
   "metadata": {},
   "outputs": [
    {
     "data": {
      "text/plain": [
       "(ConsolidatedWithApprovedBill(date=datetime.date(2022, 10, 11), item='Consolidated with Approved Bill', name='Consolidated with Approved Bill'),\n",
       " False)"
      ]
     },
     "execution_count": 65,
     "metadata": {},
     "output_type": "execute_result"
    }
   ],
   "source": [
    "test_parsing(\n",
    "    ConsolidatedWithApprovedBill,\n",
    "    \"Consolidated with Approved Bill\",\n",
    ")"
   ]
  },
  {
   "cell_type": "markdown",
   "metadata": {},
   "source": [
    "### Approved by the President"
   ]
  },
  {
   "cell_type": "code",
   "execution_count": 66,
   "metadata": {},
   "outputs": [],
   "source": [
    "# | export\n",
    "class ApprovedByPresident(SenateBill.SenateBillStatus):\n",
    "    name: str = \"Approved by the President\"\n",
    "\n",
    "    @classmethod\n",
    "    def parse(cls, h):\n",
    "        if h.item == \"Approved by the President of the Philippines\":\n",
    "            return (cls(**h.dict()), False)\n",
    "        # if h.item.startswith(\"Approved and signed into law\"):\n",
    "        return (None, True)"
   ]
  },
  {
   "cell_type": "code",
   "execution_count": 67,
   "metadata": {},
   "outputs": [
    {
     "data": {
      "text/plain": [
       "(ApprovedByPresident(date=datetime.date(2022, 10, 11), item='Approved by the President of the Philippines', name='Approved by the President'),\n",
       " False)"
      ]
     },
     "execution_count": 67,
     "metadata": {},
     "output_type": "execute_result"
    }
   ],
   "source": [
    "test_parsing(\n",
    "    ApprovedByPresident,\n",
    "    \"Approved by the President of the Philippines\",\n",
    ")"
   ]
  },
  {
   "cell_type": "markdown",
   "metadata": {},
   "source": [
    "### Pending Second Reading"
   ]
  },
  {
   "cell_type": "code",
   "execution_count": 68,
   "metadata": {},
   "outputs": [],
   "source": [
    "# | export\n",
    "class PendingSecondReading(SenateBill.SenateBillStatus):\n",
    "    name: str = \"Pending Second Reading\"\n",
    "    type: str\n",
    "\n",
    "    @classmethod\n",
    "    def parse(cls, h):\n",
    "        if h.item.startswith(\"Pending Second Reading, \"):\n",
    "            type = h.item.replace(\"Pending Second Reading, \", \"\")\n",
    "            return (cls(**h.dict(), type=type), False)\n",
    "        return (None, True)"
   ]
  },
  {
   "cell_type": "code",
   "execution_count": 69,
   "metadata": {},
   "outputs": [
    {
     "data": {
      "text/plain": [
       "(PendingSecondReading(date=datetime.date(2022, 10, 11), item='Pending Second Reading, Ordinary Business', name='Pending Second Reading', type='Ordinary Business'),\n",
       " False)"
      ]
     },
     "execution_count": 69,
     "metadata": {},
     "output_type": "execute_result"
    }
   ],
   "source": [
    "test_parsing(PendingSecondReading, \"Pending Second Reading, Ordinary Business\")"
   ]
  },
  {
   "cell_type": "code",
   "execution_count": 70,
   "metadata": {},
   "outputs": [
    {
     "data": {
      "text/plain": [
       "(PendingSecondReading(date=datetime.date(2022, 10, 11), item='Pending Second Reading, Special Order', name='Pending Second Reading', type='Special Order'),\n",
       " False)"
      ]
     },
     "execution_count": 70,
     "metadata": {},
     "output_type": "execute_result"
    }
   ],
   "source": [
    "test_parsing(PendingSecondReading, \"Pending Second Reading, Special Order\")"
   ]
  },
  {
   "cell_type": "markdown",
   "metadata": {},
   "source": [
    "### Approved Conference Committee Report"
   ]
  },
  {
   "cell_type": "code",
   "execution_count": 71,
   "metadata": {},
   "outputs": [],
   "source": [
    "# | export\n",
    "class ApprovedConferenceCommitteeReport(SenateBill.SenateBillStatus):\n",
    "    name: str = \"Approved Conference Committee Report\"\n",
    "\n",
    "    @classmethod\n",
    "    def parse(cls, h):\n",
    "        if h.item == \"Conference Committee Report Approved by the Senate;\":\n",
    "            return (cls(**h.dict()), False)\n",
    "        return (None, True)"
   ]
  },
  {
   "cell_type": "code",
   "execution_count": 72,
   "metadata": {},
   "outputs": [
    {
     "data": {
      "text/plain": [
       "(ApprovedConferenceCommitteeReport(date=datetime.date(2022, 10, 11), item='Conference Committee Report Approved by the Senate;', name='Approved Conference Committee Report'),\n",
       " False)"
      ]
     },
     "execution_count": 72,
     "metadata": {},
     "output_type": "execute_result"
    }
   ],
   "source": [
    "test_parsing(\n",
    "    ApprovedConferenceCommitteeReport,\n",
    "    \"Conference Committee Report Approved by the Senate;\",\n",
    ")"
   ]
  },
  {
   "cell_type": "markdown",
   "metadata": {},
   "source": [
    "### Interpellation"
   ]
  },
  {
   "cell_type": "code",
   "execution_count": 73,
   "metadata": {},
   "outputs": [],
   "source": [
    "# | export\n",
    "class Interpellation(SenateBill.SenateBillStatus):\n",
    "    name: str = \"Interpellation\"\n",
    "    senators: List[Senator]\n",
    "\n",
    "    @classmethod\n",
    "    def parse(cls, h):\n",
    "        slug = \"Interpellation of Senator \"\n",
    "        if h.item.startswith(slug):\n",
    "            senators = [Senator(name=h.item.replace(slug, \"\").replace(\";\", \"\"))]\n",
    "            return (cls(**h.dict(), senators=senators), True)\n",
    "        return (None, True)"
   ]
  },
  {
   "cell_type": "code",
   "execution_count": 74,
   "metadata": {},
   "outputs": [
    {
     "data": {
      "text/plain": [
       "(Interpellation(date=datetime.date(2022, 10, 11), item='Interpellation of Senator FRANKLIN M. DRILON;', name='Interpellation', senators=[Senator(name='FRANKLIN M. DRILON')]),\n",
       " True)"
      ]
     },
     "execution_count": 74,
     "metadata": {},
     "output_type": "execute_result"
    }
   ],
   "source": [
    "test_parsing(\n",
    "    Interpellation,\n",
    "    \"Interpellation of Senator FRANKLIN M. DRILON;\",\n",
    ")"
   ]
  },
  {
   "cell_type": "markdown",
   "metadata": {},
   "source": [
    "### Pending in the House of Representatives"
   ]
  },
  {
   "cell_type": "code",
   "execution_count": 75,
   "metadata": {},
   "outputs": [],
   "source": [
    "# | export\n",
    "class PendingInHouseOfRepresentatives(SenateBill.SenateBillStatus):\n",
    "    name: str = \"Pending in the House of Representatives\"\n",
    "\n",
    "    @classmethod\n",
    "    def parse(cls, h):\n",
    "        if h.item == \"Pending in the House of Representatives\":\n",
    "            return (cls(**h.dict()), False)\n",
    "        return (None, True)"
   ]
  },
  {
   "cell_type": "code",
   "execution_count": 76,
   "metadata": {},
   "outputs": [
    {
     "data": {
      "text/plain": [
       "(PendingInHouseOfRepresentatives(date=datetime.date(2022, 10, 11), item='Pending in the House of Representatives', name='Pending in the House of Representatives'),\n",
       " False)"
      ]
     },
     "execution_count": 76,
     "metadata": {},
     "output_type": "execute_result"
    }
   ],
   "source": [
    "test_parsing(\n",
    "    PendingInHouseOfRepresentatives,\n",
    "    \"Pending in the House of Representatives\",\n",
    ")"
   ]
  },
  {
   "cell_type": "markdown",
   "metadata": {},
   "source": [
    "### Withdrawn"
   ]
  },
  {
   "cell_type": "code",
   "execution_count": 114,
   "metadata": {},
   "outputs": [],
   "source": [
    "# | export\n",
    "class Withdrawn(SenateBill.SenateBillStatus):\n",
    "    name: str = \"Withdrawn\"\n",
    "\n",
    "    @classmethod\n",
    "    def parse(cls, h):\n",
    "        if h.item in (\"Withdrawn\", \"WITHDRAWN.\", \"Withdrawn;\"):\n",
    "            return (cls(**h.dict()), False)\n",
    "        return (None, True)"
   ]
  },
  {
   "cell_type": "code",
   "execution_count": 78,
   "metadata": {},
   "outputs": [
    {
     "data": {
      "text/plain": [
       "(Withdrawn(date=datetime.date(2022, 10, 11), item='Withdrawn', name='Withdrawn'),\n",
       " False)"
      ]
     },
     "execution_count": 78,
     "metadata": {},
     "output_type": "execute_result"
    }
   ],
   "source": [
    "test_parsing(\n",
    "    Withdrawn,\n",
    "    \"Withdrawn\",\n",
    ")"
   ]
  },
  {
   "cell_type": "markdown",
   "metadata": {},
   "source": [
    "### Sponsored"
   ]
  },
  {
   "cell_type": "code",
   "execution_count": 79,
   "metadata": {},
   "outputs": [],
   "source": [
    "# | export\n",
    "class Sponsored(SenateBill.SenateBillStatus):\n",
    "    \"\"\"\n",
    "    When a Senator decides to become a proponent of a bill, they sponsor it. They decide\n",
    "    when debate is ended on a bill and also delivers a sponsorship speech. A bill can\n",
    "    have multiple sponsors and Senators may become co-sponsors at any point in the\n",
    "    process.\n",
    "    \"\"\"\n",
    "\n",
    "    name: str = \"Sponsored\"\n",
    "    senators: List[Senator]\n",
    "\n",
    "    @classmethod\n",
    "    def parse(cls, h):\n",
    "        slug1 = \"Sponsor:  Senator \"\n",
    "        slug2 = \"Sponsor: Senator \"\n",
    "        slug3 = \"Sponsor: Sen. \"\n",
    "        if (\n",
    "            h.item.startswith(slug1)\n",
    "            or h.item.startswith(slug2)\n",
    "            or h.item.startswith(slug3)\n",
    "        ):\n",
    "            senators = [\n",
    "                Senator(\n",
    "                    name=(\n",
    "                        h.item.replace(slug1, \"\")\n",
    "                        .replace(slug2, \"\")\n",
    "                        .replace(slug3, \"\")\n",
    "                        .replace(\";\", \"\")\n",
    "                    )\n",
    "                )\n",
    "            ]\n",
    "            return (cls(**h.dict(), senators=senators), True)\n",
    "        slug4 = \"Sponsor: Senators \"\n",
    "        if h.item.startswith(slug4):\n",
    "            senators = h.item.replace(slug4, \"\").replace(\";\", \"\")\n",
    "            senators = [Senator(name=s.strip()) for s in senators.split(\" and \")]\n",
    "            return (cls(**h.dict(), senators=senators), True)\n",
    "        return (None, True)"
   ]
  },
  {
   "cell_type": "code",
   "execution_count": 80,
   "metadata": {},
   "outputs": [
    {
     "data": {
      "text/plain": [
       "(Sponsored(date=datetime.date(2022, 10, 11), item='Sponsor: Senator WIN GATCHALIAN;', name='Sponsored', senators=[Senator(name='WIN GATCHALIAN')]),\n",
       " True)"
      ]
     },
     "execution_count": 80,
     "metadata": {},
     "output_type": "execute_result"
    }
   ],
   "source": [
    "test_parsing(\n",
    "    Sponsored,\n",
    "    \"Sponsor: Senator WIN GATCHALIAN;\",\n",
    ")"
   ]
  },
  {
   "cell_type": "code",
   "execution_count": 81,
   "metadata": {},
   "outputs": [
    {
     "data": {
      "text/plain": [
       "(Sponsored(date=datetime.date(2022, 10, 11), item='Sponsor: Senators  EMMANUEL \"MANNY\" D. PACQUIAO and JUAN EDGARDO \"SONNY\" M. ANGARA;', name='Sponsored', senators=[Senator(name='EMMANUEL \"MANNY\" D. PACQUIAO'), Senator(name='JUAN EDGARDO \"SONNY\" M. ANGARA')]),\n",
       " True)"
      ]
     },
     "execution_count": 81,
     "metadata": {},
     "output_type": "execute_result"
    }
   ],
   "source": [
    "test_parsing(\n",
    "    Sponsored,\n",
    "    'Sponsor: Senators  EMMANUEL \"MANNY\" D. PACQUIAO and JUAN EDGARDO \"SONNY\" M. ANGARA;',\n",
    ")"
   ]
  },
  {
   "cell_type": "markdown",
   "metadata": {},
   "source": [
    "### Votes In Favor"
   ]
  },
  {
   "cell_type": "code",
   "execution_count": 115,
   "metadata": {},
   "outputs": [],
   "source": [
    "# | export\n",
    "class VotesInFavor(SenateBill.SenateBillStatus):\n",
    "    \"\"\"\n",
    "    Senators have voted and some senators are in favor.\n",
    "    \"\"\"\n",
    "\n",
    "    name: str = \"Votes In Favor\"\n",
    "    vote: str = \"In Favor\"\n",
    "    senators: List[Senator]\n",
    "\n",
    "    @classmethod\n",
    "    def parse(cls, h):\n",
    "        slug = \"In favor:\"\n",
    "        if h.item.startswith(slug):\n",
    "            senators = h.item.replace(slug, \"\").replace(\";\", \"\").strip()\n",
    "            senators = re.sub(\"\\([1-9]+\\)\", \"\", senators)\n",
    "            senators = re.sub(\"Senator[s]\", \"\", senators)\n",
    "            split = re.split(\",|and\", senators)\n",
    "            senators = (\n",
    "                [Senator(name=s.strip()) for s in split]\n",
    "                if senators.lower().strip() not in (\"(none)\", \"n o n e\")\n",
    "                else []\n",
    "            )\n",
    "            return (cls(**h.dict(), senators=senators), False)\n",
    "        return (None, True)"
   ]
  },
  {
   "cell_type": "code",
   "execution_count": 117,
   "metadata": {},
   "outputs": [
    {
     "data": {
      "text/plain": [
       "(VotesInFavor(date=datetime.date(2022, 10, 11), item='In favor: (23) Senators SONNY ANGARA, MARIA LOURDES NANCY S. BINAY, PIA S. CAYETANO, RONALD \"BATO\" DELA ROSA, FRANKLIN M. DRILON, WIN GATCHALIAN, CHRISTOPHER LAWRENCE T. GO, RICHARD J. GORDON, RISA HONTIVEROS, PANFILO \"PING\" M. LACSON, MANUEL \"LITO\" M. LAPID, IMEE R. MARCOS, EMMANUEL \"MANNY\" D. PACQUIAO, FRANCIS \"KIKO\" N. PANGILINAN, AQUILINO \"KOKO\" III PIMENTEL, GRACE POE, RALPH G. RECTO, RAMON BONG REVILLA JR., VICENTE C. SOTTO III, FRANCIS \"TOL\" N. TOLENTINO, JOEL VILLANUEVA, CYNTHIA A. VILLAR and JUAN MIGUEL \"MIGZ\" F. ZUBIRI;', name='Votes In Favor', vote='In Favor', senators=[Senator(name='SONNY ANGARA'), Senator(name='MARIA LOURDES NANCY S. BINAY'), Senator(name='PIA S. CAYETANO'), Senator(name='RONALD \"BATO\" DELA ROSA'), Senator(name='FRANKLIN M. DRILON'), Senator(name='WIN GATCHALIAN'), Senator(name='CHRISTOPHER LAWRENCE T. GO'), Senator(name='RICHARD J. GORDON'), Senator(name='RISA HONTIVEROS'), Senator(name='PANFILO \"PING\" M. LACSON'), Senator(name='MANUEL \"LITO\" M. LAPID'), Senator(name='IMEE R. MARCOS'), Senator(name='EMMANUEL \"MANNY\" D. PACQUIAO'), Senator(name='FRANCIS \"KIKO\" N. PANGILINAN'), Senator(name='AQUILINO \"KOKO\" III PIMENTEL'), Senator(name='GRACE POE'), Senator(name='RALPH G. RECTO'), Senator(name='RAMON BONG REVILLA JR.'), Senator(name='VICENTE C. SOTTO III'), Senator(name='FRANCIS \"TOL\" N. TOLENTINO'), Senator(name='JOEL VILLANUEVA'), Senator(name='CYNTHIA A. VILLAR'), Senator(name='JUAN MIGUEL \"MIGZ\" F. ZUBIRI')]),\n",
       " False)"
      ]
     },
     "execution_count": 117,
     "metadata": {},
     "output_type": "execute_result"
    }
   ],
   "source": [
    "test_parsing(\n",
    "    VotesInFavor,\n",
    "    'In favor: (23) Senators SONNY ANGARA, MARIA LOURDES NANCY S. BINAY, PIA S. CAYETANO, RONALD \"BATO\" DELA ROSA, FRANKLIN M. DRILON, WIN GATCHALIAN, CHRISTOPHER LAWRENCE T. GO, RICHARD J. GORDON, RISA HONTIVEROS, PANFILO \"PING\" M. LACSON, MANUEL \"LITO\" M. LAPID, IMEE R. MARCOS, EMMANUEL \"MANNY\" D. PACQUIAO, FRANCIS \"KIKO\" N. PANGILINAN, AQUILINO \"KOKO\" III PIMENTEL, GRACE POE, RALPH G. RECTO, RAMON BONG REVILLA JR., VICENTE C. SOTTO III, FRANCIS \"TOL\" N. TOLENTINO, JOEL VILLANUEVA, CYNTHIA A. VILLAR and JUAN MIGUEL \"MIGZ\" F. ZUBIRI;',\n",
    ")"
   ]
  },
  {
   "cell_type": "markdown",
   "metadata": {},
   "source": [
    "### Votes In Favor"
   ]
  },
  {
   "cell_type": "code",
   "execution_count": 105,
   "metadata": {},
   "outputs": [],
   "source": [
    "# | export\n",
    "class VotesAgainst(SenateBill.SenateBillStatus):\n",
    "    \"\"\"\n",
    "    Senators have voted and some senators are in favor.\n",
    "    \"\"\"\n",
    "\n",
    "    name: str = \"Votes Against\"\n",
    "    vote: str = \"Against\"\n",
    "    senators: List[Senator]\n",
    "\n",
    "    @classmethod\n",
    "    def parse(cls, h):\n",
    "        slug1 = \"Against:\"\n",
    "        slug2 = \"Against\"\n",
    "        if h.item.startswith(slug1) or h.item.startswith(slug2):\n",
    "            senators = (\n",
    "                h.item.replace(slug1, \"\")\n",
    "                .replace(slug2, \"\")\n",
    "                .replace(\":\", \"\")\n",
    "                .replace(\";\", \"\")\n",
    "                .strip()\n",
    "            )\n",
    "            senators = re.sub(\"\\([1-9]+\\)\", \"\", senators)\n",
    "            senators = re.sub(\"Senator[s]\", \"\", senators)\n",
    "            split = re.split(\",|and\", senators)\n",
    "            senators = (\n",
    "                [Senator(name=s.strip()) for s in split]\n",
    "                if senators.lower().strip() not in (\"(none)\", \"n o n e\")\n",
    "                else []\n",
    "            )\n",
    "            return (cls(**h.dict(), senators=senators), False)\n",
    "        return (None, True)"
   ]
  },
  {
   "cell_type": "code",
   "execution_count": 104,
   "metadata": {},
   "outputs": [
    {
     "data": {
      "text/plain": [
       "(VotesAgainst(date=datetime.date(2022, 10, 11), item='Against:         N o n e;', name='Votes Against', vote='Against', senators=[]),\n",
       " False)"
      ]
     },
     "execution_count": 104,
     "metadata": {},
     "output_type": "execute_result"
    }
   ],
   "source": [
    "test_parsing(\n",
    "    VotesAgainst,\n",
    "    \"Against:         N o n e;\",\n",
    ")"
   ]
  },
  {
   "cell_type": "code",
   "execution_count": 106,
   "metadata": {},
   "outputs": [
    {
     "data": {
      "text/plain": [
       "(VotesAgainst(date=datetime.date(2022, 10, 11), item='Against  : (2) Senators Lim and Pimentel, Jr.;', name='Votes Against', vote='Against', senators=[Senator(name='Lim'), Senator(name='Pimentel'), Senator(name='Jr.')]),\n",
       " False)"
      ]
     },
     "execution_count": 106,
     "metadata": {},
     "output_type": "execute_result"
    }
   ],
   "source": [
    "test_parsing(\n",
    "    VotesAgainst,\n",
    "    \"Against  : (2) Senators Lim and Pimentel, Jr.;\",\n",
    ")"
   ]
  },
  {
   "cell_type": "markdown",
   "metadata": {},
   "source": [
    "### Votes Abstained"
   ]
  },
  {
   "cell_type": "code",
   "execution_count": 89,
   "metadata": {},
   "outputs": [],
   "source": [
    "# | export\n",
    "class VotesAbstained(SenateBill.SenateBillStatus):\n",
    "    \"\"\"\n",
    "    Senators have voted and some senators have abstained from voting.\n",
    "    \"\"\"\n",
    "\n",
    "    name: str = \"Votes Abstained\"\n",
    "    vote: str = \"Abstained\"\n",
    "    senators: List[Senator]\n",
    "\n",
    "    @classmethod\n",
    "    def parse(cls, h):\n",
    "        slug1 = \"Abstention:\"\n",
    "        slug2 = \"Abstain:\"\n",
    "        slug3 = \"Abstention\"\n",
    "        if (\n",
    "            h.item.startswith(slug1)\n",
    "            or h.item.startswith(slug2)\n",
    "            or h.item.startswith(slug3)\n",
    "        ):\n",
    "            senators = (\n",
    "                h.item.replace(slug1, \"\")\n",
    "                .replace(slug2, \"\")\n",
    "                .replace(slug3, \"\")\n",
    "                .replace(\";\", \"\")\n",
    "                .strip()\n",
    "            )\n",
    "            senators = re.sub(\"\\([1-9]+\\)\", \"\", senators)\n",
    "            split = re.split(\",|and\", senators)\n",
    "            senators = (\n",
    "                [Senator(name=s.strip()) for s in split]\n",
    "                if senators.lower().strip() not in (\"(none)\", \"n o n e\")\n",
    "                else []\n",
    "            )\n",
    "            return (cls(**h.dict(), senators=senators), False)\n",
    "        return (None, True)"
   ]
  },
  {
   "cell_type": "code",
   "execution_count": 90,
   "metadata": {},
   "outputs": [
    {
     "data": {
      "text/plain": [
       "(VotesAbstained(date=datetime.date(2022, 10, 11), item='Abstention:    (2) JINGGOY P. EJERCITO-ESTRADA and JUAN PONCE ENRILE;', name='Votes Abstained', vote='Abstained', senators=[Senator(name='JINGGOY P. EJERCITO-ESTRADA'), Senator(name='JUAN PONCE ENRILE')]),\n",
       " False)"
      ]
     },
     "execution_count": 90,
     "metadata": {},
     "output_type": "execute_result"
    }
   ],
   "source": [
    "test_parsing(\n",
    "    VotesAbstained,\n",
    "    \"Abstention:    (2) JINGGOY P. EJERCITO-ESTRADA and JUAN PONCE ENRILE;\",\n",
    ")"
   ]
  },
  {
   "cell_type": "markdown",
   "metadata": {},
   "source": [
    "We do a test as to whether we can succesfully parse a very common combination of votes separated by newlines instead of being in different statuses:"
   ]
  },
  {
   "cell_type": "code",
   "execution_count": 113,
   "metadata": {},
   "outputs": [
    {
     "data": {
      "text/plain": [
       "[VotesInFavor(date=datetime.date(2022, 10, 11), item='In favor: (22) Senators Angara, Aquino, Arroyo, Biazon, Alan Peter Cayetano, Pia Cayetano, Miriam Defensor Santiago, Jinggoy Ejercito Estrada, Enrile, Escudero, Gordon, Honasan, Lacson, Lapid, Legarda, M.A.Madrigal, Pangilinan, Pimentel, Jr., Revilla, Jr., Roxas, Villar, and Zubiri', name='Votes In Favor', vote='In Favor', senators=[Senator(name='Angara'), Senator(name='Aquino'), Senator(name='Arroyo'), Senator(name='Biazon'), Senator(name='Alan Peter Cayetano'), Senator(name='Pia Cayetano'), Senator(name='Miriam Defensor Santiago'), Senator(name='Jinggoy Ejercito Estrada'), Senator(name='Enrile'), Senator(name='Escudero'), Senator(name='Gordon'), Senator(name='Honasan'), Senator(name='Lacson'), Senator(name='Lapid'), Senator(name='Legarda'), Senator(name='M.A.Madrigal'), Senator(name='Pangilinan'), Senator(name='Pimentel'), Senator(name='Jr.'), Senator(name='Revilla'), Senator(name='Jr.'), Senator(name='Roxas'), Senator(name='Villar'), Senator(name=''), Senator(name='Zubiri')]),\n",
       " VotesAgainst(date=datetime.date(2022, 10, 11), item='Against:      N o n e', name='Votes Against', vote='Against', senators=[]),\n",
       " VotesAbstained(date=datetime.date(2022, 10, 11), item='Abstention:  N o n e;', name='Votes Abstained', vote='Abstained', senators=[])]"
      ]
     },
     "execution_count": 113,
     "metadata": {},
     "output_type": "execute_result"
    }
   ],
   "source": [
    "parse_senate_bill_status(\n",
    "    SenateBill.SenateBillStatus(\n",
    "        date=datetime.date.today(),\n",
    "        item=\"In favor: (22) Senators Angara, Aquino, Arroyo, Biazon, Alan Peter Cayetano, Pia Cayetano, Miriam Defensor Santiago, Jinggoy Ejercito Estrada, Enrile, Escudero, Gordon, Honasan, Lacson, Lapid, Legarda, M.A.Madrigal, Pangilinan, Pimentel, Jr., Revilla, Jr., Roxas, Villar, and Zubiri;\\nAgainst:      N o n e;\\nAbstention:  N o n e;\",\n",
    "    ),\n",
    "    [VotesInFavor, VotesAbstained, VotesAgainst],\n",
    ")"
   ]
  },
  {
   "cell_type": "markdown",
   "metadata": {},
   "source": [
    "### Lapsed into Law"
   ]
  },
  {
   "cell_type": "code",
   "execution_count": 125,
   "metadata": {},
   "outputs": [],
   "source": [
    "# | export\n",
    "class LapsedIntoLaw(SenateBill.SenateBillStatus):\n",
    "    \"\"\"\n",
    "    When the President fails to sign a bill into law within a set amount of time, the\n",
    "    bill is considered to have lapsed into law and will be as if he had approved it.\n",
    "    \"\"\"\n",
    "\n",
    "    name: str = \"Lapsed into Law\"\n",
    "\n",
    "    @classmethod\n",
    "    def parse(cls, h):\n",
    "        if h.item in (\"Lapsed Into Law\"):\n",
    "            return (cls(**h.dict()), False)\n",
    "        return (None, True)"
   ]
  },
  {
   "cell_type": "code",
   "execution_count": 126,
   "metadata": {},
   "outputs": [
    {
     "data": {
      "text/plain": [
       "(LapsedIntoLaw(date=datetime.date(2022, 10, 11), item='Lapsed Into Law', name='Lapsed into Law'),\n",
       " False)"
      ]
     },
     "execution_count": 126,
     "metadata": {},
     "output_type": "execute_result"
    }
   ],
   "source": [
    "test_parsing(LapsedIntoLaw, \"Lapsed Into Law\")"
   ]
  },
  {
   "cell_type": "markdown",
   "metadata": {},
   "source": [
    "### Inquiry of the Chair"
   ]
  },
  {
   "cell_type": "code",
   "execution_count": 134,
   "metadata": {},
   "outputs": [],
   "source": [
    "# | export\n",
    "class InquiryOfChair(SenateBill.SenateBillStatus):\n",
    "    name: str = \"Inquiry of the Chair\"\n",
    "\n",
    "    @classmethod\n",
    "    def parse(cls, h):\n",
    "        if h.item in (\"Inquiry of the Chair;\"):\n",
    "            return (cls(**h.dict()), False)\n",
    "        return (None, True)"
   ]
  },
  {
   "cell_type": "code",
   "execution_count": 135,
   "metadata": {},
   "outputs": [
    {
     "data": {
      "text/plain": [
       "(InquiryOfChair(date=datetime.date(2022, 10, 11), item='Inquiry of the Chair;', name='Inquiry of the Chair'),\n",
       " False)"
      ]
     },
     "execution_count": 135,
     "metadata": {},
     "output_type": "execute_result"
    }
   ],
   "source": [
    "test_parsing(InquiryOfChair, \"Inquiry of the Chair;\")"
   ]
  }
 ],
 "metadata": {
  "kernelspec": {
   "display_name": "Python 3.11.0rc2 ('.venv': poetry)",
   "language": "python",
   "name": "python3"
  },
  "language_info": {
   "codemirror_mode": {
    "name": "ipython",
    "version": 3
   },
   "file_extension": ".py",
   "mimetype": "text/x-python",
   "name": "python",
   "nbconvert_exporter": "python",
   "pygments_lexer": "ipython3",
   "version": "3.10.7"
  },
  "vscode": {
   "interpreter": {
    "hash": "457ac1f119753765ba9cae2485abff15a771f7640bcb98eda581ab9925045ae5"
   }
  }
 },
 "nbformat": 4,
 "nbformat_minor": 2
}
