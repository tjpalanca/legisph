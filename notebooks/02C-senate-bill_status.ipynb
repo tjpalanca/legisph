{
 "cells": [
  {
   "cell_type": "markdown",
   "metadata": {},
   "source": [
    "# Senate Bill Status\n",
    "\n",
    "> In the current legislative status field as well as the Legislative history section, there are free text strings that depic actions being taken on these bills, their dates, and the potential actors. However, they are not particularly well-formatted, so we'll need to do some custom string parsing to get this to work.\n"
   ]
  },
  {
   "cell_type": "code",
   "execution_count": 3,
   "metadata": {},
   "outputs": [],
   "source": [
    "# | default_exp senate.bill_status\n",
    "# | export\n",
    "import re\n",
    "import datetime\n",
    "\n",
    "from typing import List\n",
    "from nbdev.showdoc import show_doc\n",
    "\n",
    "from legisph.senate.models import SenateBill, Senator, SenateCommittee"
   ]
  },
  {
   "cell_type": "markdown",
   "metadata": {},
   "source": [
    "## Parsing Strategy \n",
    "\n",
    "Our strategy is to cycle through a predefined list of classes that all have a `parse()` class method which return parsed statuses (if any) and an indicator as to whether to short circuit the function. \n",
    "\n",
    "### Pending In Committee\n",
    "\n",
    "For example, we first define the most common status for \"Pending in committee\" as follows:"
   ]
  },
  {
   "cell_type": "code",
   "execution_count": 4,
   "metadata": {},
   "outputs": [],
   "source": [
    "# | export\n",
    "class PendingInCommittee(SenateBill.SenateBillStatus):\n",
    "    name: str = \"Pending in Committee\"\n",
    "\n",
    "    @classmethod\n",
    "    def parse(cls, h):\n",
    "        if h.item == \"Pending in the Committee\":\n",
    "            return (cls(**h.dict()), False)\n",
    "        return (None, True)"
   ]
  },
  {
   "cell_type": "markdown",
   "metadata": {},
   "source": [
    "This is able to parse a status and turn it into the relevant subclass. It returns `False` for the second part of the tuple because if it matches exactly, then there is no further action to take. We also define a convenience function for testing the individual parsing functions:"
   ]
  },
  {
   "cell_type": "code",
   "execution_count": 148,
   "metadata": {},
   "outputs": [],
   "source": [
    "def test_parsing(statusclass, item):\n",
    "    parsed = statusclass.parse(\n",
    "        SenateBill.SenateBillStatus(date=datetime.date.today(), item=item)\n",
    "    )\n",
    "    assert parsed[0] is not None\n",
    "    assert isinstance(parsed[1], bool)\n",
    "    return parsed"
   ]
  },
  {
   "cell_type": "code",
   "execution_count": 149,
   "metadata": {},
   "outputs": [
    {
     "data": {
      "text/plain": [
       "(PendingInCommittee(date=datetime.date(2022, 10, 10), item='Pending in the Committee', name='Pending in Committee'),\n",
       " False)"
      ]
     },
     "execution_count": 149,
     "metadata": {},
     "output_type": "execute_result"
    }
   ],
   "source": [
    "test_parsing(PendingInCommittee, \"Pending in the Committee\")"
   ]
  },
  {
   "cell_type": "markdown",
   "metadata": {},
   "source": [
    "This function below then takes a predefined list of classes and cycles through them, chugging out the parsed actions along the way."
   ]
  },
  {
   "cell_type": "code",
   "execution_count": 6,
   "metadata": {},
   "outputs": [
    {
     "data": {
      "text/markdown": [
       "---\n",
       "\n",
       "### parse_senate_bill_status\n",
       "\n",
       ">      parse_senate_bill_status\n",
       ">                                (status:legisph.senate.models.SenateBill.Senate\n",
       ">                                BillStatus, classes:list)\n",
       "\n",
       "|    | **Type** | **Details** |\n",
       "| -- | -------- | ----------- |\n",
       "| status | SenateBillStatus | Senate Bill Status to parse into a subclass |\n",
       "| classes | list | List of classes through which to cycle |"
      ],
      "text/plain": [
       "---\n",
       "\n",
       "### parse_senate_bill_status\n",
       "\n",
       ">      parse_senate_bill_status\n",
       ">                                (status:legisph.senate.models.SenateBill.Senate\n",
       ">                                BillStatus, classes:list)\n",
       "\n",
       "|    | **Type** | **Details** |\n",
       "| -- | -------- | ----------- |\n",
       "| status | SenateBillStatus | Senate Bill Status to parse into a subclass |\n",
       "| classes | list | List of classes through which to cycle |"
      ]
     },
     "execution_count": 6,
     "metadata": {},
     "output_type": "execute_result"
    }
   ],
   "source": [
    "# | export\n",
    "def parse_senate_bill_status(\n",
    "    status: SenateBill.SenateBillStatus,  # Senate Bill Status to parse into a subclass\n",
    "    classes: list,  # List of classes through which to cycle\n",
    "):\n",
    "    actions = []\n",
    "    for c in classes:\n",
    "        action, cycle = c.parse(status)\n",
    "        if action is not None:\n",
    "            actions.append(action)\n",
    "        if not cycle:\n",
    "            break\n",
    "    return actions\n",
    "\n",
    "\n",
    "show_doc(parse_senate_bill_status)"
   ]
  },
  {
   "cell_type": "code",
   "execution_count": 7,
   "metadata": {},
   "outputs": [
    {
     "data": {
      "text/plain": [
       "[PendingInCommittee(date=datetime.date(2022, 10, 7), item='Pending in the Committee', name='Pending in Committee')]"
      ]
     },
     "execution_count": 7,
     "metadata": {},
     "output_type": "execute_result"
    }
   ],
   "source": [
    "parse_senate_bill_status(\n",
    "    SenateBill.SenateBillStatus(\n",
    "        date=datetime.date(2022, 10, 7), item=\"Pending in the Committee\"\n",
    "    ),\n",
    "    classes=[PendingInCommittee],\n",
    ")"
   ]
  },
  {
   "cell_type": "markdown",
   "metadata": {},
   "source": [
    "## Parsing All Statuses\n",
    "\n",
    "We then proceed to define all the remaining statuses below:\n"
   ]
  },
  {
   "cell_type": "markdown",
   "metadata": {},
   "source": [
    "### Joint Proceedings"
   ]
  },
  {
   "cell_type": "code",
   "execution_count": 8,
   "metadata": {},
   "outputs": [],
   "source": [
    "# | export\n",
    "class JointProceedings(SenateBill.SenateBillStatus):\n",
    "    name: str = \"Conducted Joint Proceedings\"\n",
    "\n",
    "    @classmethod\n",
    "    def parse(cls, h):\n",
    "        if h.item == \"Conducted JOINT COMMITTEE MEETINGS/HEARINGS;\":\n",
    "            return (cls(**h.dict()), False)\n",
    "        return (None, True)"
   ]
  },
  {
   "cell_type": "code",
   "execution_count": 46,
   "metadata": {},
   "outputs": [
    {
     "data": {
      "text/plain": [
       "(JointProceedings(date=datetime.date(2022, 10, 10), item='Conducted JOINT COMMITTEE MEETINGS/HEARINGS;', name='Conducted Joint Proceedings'),\n",
       " False)"
      ]
     },
     "execution_count": 46,
     "metadata": {},
     "output_type": "execute_result"
    }
   ],
   "source": [
    "test_parsing(JointProceedings, \"Conducted JOINT COMMITTEE MEETINGS/HEARINGS;\")"
   ]
  },
  {
   "cell_type": "markdown",
   "metadata": {},
   "source": [
    "### Introduced"
   ]
  },
  {
   "cell_type": "code",
   "execution_count": 10,
   "metadata": {},
   "outputs": [],
   "source": [
    "# | export\n",
    "class Introduced(SenateBill.SenateBillStatus):\n",
    "    name: str = \"Introduced by a Senator\"\n",
    "    senator: Senator\n",
    "\n",
    "    @classmethod\n",
    "    def parse(cls, h):\n",
    "        if h.item.startswith(\"Introduced by Senator \"):\n",
    "            return (\n",
    "                cls(\n",
    "                    **h.dict(),\n",
    "                    senator=Senator(\n",
    "                        name=(\n",
    "                            h.item.replace(\"Introduced by Senator \", \"\").replace(\n",
    "                                \";\", \"\"\n",
    "                            )\n",
    "                        )\n",
    "                    )\n",
    "                ),\n",
    "                True,\n",
    "            )\n",
    "        return (None, True)"
   ]
  },
  {
   "cell_type": "code",
   "execution_count": 49,
   "metadata": {},
   "outputs": [
    {
     "data": {
      "text/plain": [
       "(Introduced(date=datetime.date(2022, 10, 10), item='Introduced by Senator JINGGOY P. EJERCITO-ESTRADA;', name='Introduced by a Senator', senator=Senator(name='JINGGOY P. EJERCITO-ESTRADA')),\n",
       " True)"
      ]
     },
     "execution_count": 49,
     "metadata": {},
     "output_type": "execute_result"
    }
   ],
   "source": [
    "test_parsing(Introduced, \"Introduced by Senator JINGGOY P. EJERCITO-ESTRADA;\")"
   ]
  },
  {
   "cell_type": "markdown",
   "metadata": {},
   "source": [
    "### Committee Report Calendared For Ordinary Business"
   ]
  },
  {
   "cell_type": "code",
   "execution_count": 124,
   "metadata": {},
   "outputs": [],
   "source": [
    "# | export\n",
    "class CommitteeReportCalendaredForOrdinaryBusiness(SenateBill.SenateBillStatus):\n",
    "    name: str = \"Committe Report Calendared for Ordinary Business\"\n",
    "\n",
    "    @classmethod\n",
    "    def parse(cls, h):\n",
    "        if h.item in (\n",
    "            \"Committee Report Calendared for Ordinary Business;\",\n",
    "            \"Committee Report calendared for Ordinary Business;\",\n",
    "        ):\n",
    "            return (cls(**h.dict()), False)\n",
    "        return (None, True)"
   ]
  },
  {
   "cell_type": "code",
   "execution_count": 51,
   "metadata": {},
   "outputs": [
    {
     "data": {
      "text/plain": [
       "(CommitteeReportCalendaredForOrdinaryBusiness(date=datetime.date(2022, 10, 10), item='Committee Report Calendared for Ordinary Business;', name='Committe Report Calendared for Ordinary Business'),\n",
       " False)"
      ]
     },
     "execution_count": 51,
     "metadata": {},
     "output_type": "execute_result"
    }
   ],
   "source": [
    "test_parsing(\n",
    "    CommitteeReportCalendaredForOrdinaryBusiness,\n",
    "    \"Committee Report Calendared for Ordinary Business;\",\n",
    ")"
   ]
  },
  {
   "cell_type": "markdown",
   "metadata": {},
   "source": [
    "### Consolidated or Substituted in Committee Report"
   ]
  },
  {
   "cell_type": "code",
   "execution_count": 14,
   "metadata": {},
   "outputs": [],
   "source": [
    "# | export\n",
    "class ConsolidatedOrSubstitutedInCommitteeReport(SenateBill.SenateBillStatus):\n",
    "    name: str = \"Consolidated or Substituted in Committee Report\"\n",
    "\n",
    "    @classmethod\n",
    "    def parse(cls, h):\n",
    "        if h.item == \"Consolidated/Substituted in the Committee Report\":\n",
    "            return (cls(**h.dict()), False)\n",
    "        return (None, True)"
   ]
  },
  {
   "cell_type": "code",
   "execution_count": 56,
   "metadata": {},
   "outputs": [
    {
     "data": {
      "text/plain": [
       "(ConsolidatedOrSubstitutedInCommitteeReport(date=datetime.date(2022, 10, 10), item='Consolidated/Substituted in the Committee Report', name='Consolidated or Substituted in Committee Report'),\n",
       " False)"
      ]
     },
     "execution_count": 56,
     "metadata": {},
     "output_type": "execute_result"
    }
   ],
   "source": [
    "test_parsing(\n",
    "    ConsolidatedOrSubstitutedInCommitteeReport,\n",
    "    \"Consolidated/Substituted in the Committee Report\",\n",
    ")"
   ]
  },
  {
   "cell_type": "markdown",
   "metadata": {},
   "source": [
    "### Technical Working Group"
   ]
  },
  {
   "cell_type": "code",
   "execution_count": 16,
   "metadata": {},
   "outputs": [],
   "source": [
    "# | export\n",
    "class TechnicalWorkingGroup(SenateBill.SenateBillStatus):\n",
    "    name: str = \"Conducted a Technical Working Group\"\n",
    "\n",
    "    @classmethod\n",
    "    def parse(cls, h):\n",
    "        if h.item == \"Conducted TECHNICAL WORKING GROUP;\":\n",
    "            return (cls(**h.dict()), False)\n",
    "        return (None, True)"
   ]
  },
  {
   "cell_type": "code",
   "execution_count": 57,
   "metadata": {},
   "outputs": [
    {
     "data": {
      "text/plain": [
       "(TechnicalWorkingGroup(date=datetime.date(2022, 10, 10), item='Conducted TECHNICAL WORKING GROUP;', name='Conducted a Technical Working Group'),\n",
       " False)"
      ]
     },
     "execution_count": 57,
     "metadata": {},
     "output_type": "execute_result"
    }
   ],
   "source": [
    "test_parsing(TechnicalWorkingGroup, \"Conducted TECHNICAL WORKING GROUP;\")"
   ]
  },
  {
   "cell_type": "markdown",
   "metadata": {},
   "source": [
    "### First Reading"
   ]
  },
  {
   "cell_type": "code",
   "execution_count": 34,
   "metadata": {},
   "outputs": [],
   "source": [
    "# | export\n",
    "class FirstReading(SenateBill.SenateBillStatus):\n",
    "    name: str = \"Read on First Reading and Referred to Committee\"\n",
    "    committees: List[SenateCommittee]\n",
    "\n",
    "    @classmethod\n",
    "    def parse(cls, h):\n",
    "        slug1 = \"Read on First Reading and Referred to the Committee on \"\n",
    "        slug2 = \"Read on First Reading and Referred to the Committee(s) on \"\n",
    "        slug3 = \"Read on First Reading and referred to the Committee(s) on \"\n",
    "        if h.item.startswith(slug1):\n",
    "            committee = SenateCommittee(name=h.item.replace(slug1, \"\").replace(\";\", \"\"))\n",
    "            return (cls(**h.dict(), committees=[committee]), True)\n",
    "        if h.item.startswith(slug2) or h.item.startswith(slug3):\n",
    "            committees = h.item.replace(slug2, \"\")\n",
    "            committees = h.item.replace(slug3, \"\")\n",
    "            committees = re.split(\"[ ]*and[ ]*|[ ]*;[ ]*\", committees)\n",
    "            committees = [\n",
    "                SenateCommittee(name=name) for name in committees if name != \"\"\n",
    "            ]\n",
    "            return (cls(**h.dict(), committees=committees), True)\n",
    "        return (None, True)"
   ]
  },
  {
   "cell_type": "code",
   "execution_count": 58,
   "metadata": {},
   "outputs": [
    {
     "data": {
      "text/plain": [
       "(FirstReading(date=datetime.date(2022, 10, 10), item='Read on First Reading and Referred to the Committee on JUSTICE AND HUMAN RIGHTS;', name='Read on First Reading and Referred to Committee', committees=[SenateCommittee(name='JUSTICE AND HUMAN RIGHTS')]),\n",
       " False)"
      ]
     },
     "execution_count": 58,
     "metadata": {},
     "output_type": "execute_result"
    }
   ],
   "source": [
    "test_parsing(\n",
    "    FirstReading,\n",
    "    \"Read on First Reading and Referred to the Committee on JUSTICE AND HUMAN RIGHTS;\",\n",
    ")"
   ]
  },
  {
   "cell_type": "code",
   "execution_count": 59,
   "metadata": {},
   "outputs": [
    {
     "data": {
      "text/plain": [
       "(FirstReading(date=datetime.date(2022, 10, 10), item='Read on First Reading and Referred to the Committee(s) on EDUCATION, ARTS AND CULTURE; and FINANCE;', name='Read on First Reading and Referred to Committee', committees=[SenateCommittee(name='Read on First Reading'), SenateCommittee(name='Referred to the Committee(s) on EDUCATION, ARTS AND CULTURE'), SenateCommittee(name='FINANCE')]),\n",
       " False)"
      ]
     },
     "execution_count": 59,
     "metadata": {},
     "output_type": "execute_result"
    }
   ],
   "source": [
    "test_parsing(\n",
    "    FirstReading,\n",
    "    \"Read on First Reading and Referred to the Committee(s) on EDUCATION, ARTS AND CULTURE; and FINANCE;\",\n",
    ")"
   ]
  },
  {
   "cell_type": "code",
   "execution_count": 60,
   "metadata": {},
   "outputs": [
    {
     "data": {
      "text/plain": [
       "(FirstReading(date=datetime.date(2022, 10, 10), item='Read on First Reading and Referred to the Committee(s) on LOCAL GOVERNMENT; CIVIL SERVICE, GOVERNMENT REORGANIZATION AND PROFESSIONAL REGULATION and FINANCE;', name='Read on First Reading and Referred to Committee', committees=[SenateCommittee(name='Read on First Reading'), SenateCommittee(name='Referred to the Committee(s) on LOCAL GOVERNMENT'), SenateCommittee(name='CIVIL SERVICE, GOVERNMENT REORGANIZATION AND PROFESSIONAL REGULATION'), SenateCommittee(name='FINANCE')]),\n",
       " False)"
      ]
     },
     "execution_count": 60,
     "metadata": {},
     "output_type": "execute_result"
    }
   ],
   "source": [
    "test_parsing(\n",
    "    FirstReading,\n",
    "    \"Read on First Reading and Referred to the Committee(s) on LOCAL GOVERNMENT; CIVIL SERVICE, GOVERNMENT REORGANIZATION AND PROFESSIONAL REGULATION and FINANCE;\",\n",
    ")"
   ]
  },
  {
   "cell_type": "code",
   "execution_count": 61,
   "metadata": {},
   "outputs": [
    {
     "data": {
      "text/plain": [
       "(FirstReading(date=datetime.date(2022, 10, 10), item='Read on First Reading and referred to the Committee(s) on EDUCATION, ARTS AND CULTURE; and FINANCE;', name='Read on First Reading and Referred to Committee', committees=[SenateCommittee(name='EDUCATION, ARTS AND CULTURE'), SenateCommittee(name='FINANCE')]),\n",
       " False)"
      ]
     },
     "execution_count": 61,
     "metadata": {},
     "output_type": "execute_result"
    }
   ],
   "source": [
    "test_parsing(\n",
    "    FirstReading,\n",
    "    \"Read on First Reading and referred to the Committee(s) on EDUCATION, ARTS AND CULTURE; and FINANCE;\",\n",
    ")"
   ]
  },
  {
   "cell_type": "markdown",
   "metadata": {},
   "source": [
    "### Committee Proceedings"
   ]
  },
  {
   "cell_type": "code",
   "execution_count": 22,
   "metadata": {},
   "outputs": [],
   "source": [
    "# | export\n",
    "class CommitteeProceedings(SenateBill.SenateBillStatus):\n",
    "    name: str = \"Conducted Committee Proceedings\"\n",
    "\n",
    "    @classmethod\n",
    "    def parse(cls, h):\n",
    "        if h.item == \"Conducted COMMITTEE MEETINGS/HEARINGS;\":\n",
    "            return (cls(**h.dict()), False)\n",
    "        return (None, True)"
   ]
  },
  {
   "cell_type": "code",
   "execution_count": 62,
   "metadata": {},
   "outputs": [
    {
     "data": {
      "text/plain": [
       "(CommitteeProceedings(date=datetime.date(2022, 10, 10), item='Conducted COMMITTEE MEETINGS/HEARINGS;', name='Conducted Committee Proceedings'),\n",
       " False)"
      ]
     },
     "execution_count": 62,
     "metadata": {},
     "output_type": "execute_result"
    }
   ],
   "source": [
    "test_parsing(CommitteeProceedings, \"Conducted COMMITTEE MEETINGS/HEARINGS;\")"
   ]
  },
  {
   "cell_type": "markdown",
   "metadata": {},
   "source": [
    "### Approved on Second Reading"
   ]
  },
  {
   "cell_type": "code",
   "execution_count": 24,
   "metadata": {},
   "outputs": [],
   "source": [
    "# | export\n",
    "class ApprovedOnSecondReading(SenateBill.SenateBillStatus):\n",
    "    name: str = \"Approved On Second Reading\"\n",
    "    with_amendments: bool\n",
    "\n",
    "    @classmethod\n",
    "    def parse(cls, h):\n",
    "        if h.item == \"Approved on Second Reading with Amendments;\":\n",
    "            return (cls(**h.dict(), with_amendments=True), False)\n",
    "        if h.item == \"Approved on Second Reading without Amendment;\":\n",
    "            return (cls(**h.dict(), with_amendments=False), False)\n",
    "        return (None, True)"
   ]
  },
  {
   "cell_type": "code",
   "execution_count": 63,
   "metadata": {},
   "outputs": [
    {
     "data": {
      "text/plain": [
       "(ApprovedOnSecondReading(date=datetime.date(2022, 10, 10), item='Approved on Second Reading with Amendments;', name='Approved On Second Reading', with_amendments=True),\n",
       " False)"
      ]
     },
     "execution_count": 63,
     "metadata": {},
     "output_type": "execute_result"
    }
   ],
   "source": [
    "test_parsing(ApprovedOnSecondReading, \"Approved on Second Reading with Amendments;\")"
   ]
  },
  {
   "cell_type": "code",
   "execution_count": 64,
   "metadata": {},
   "outputs": [
    {
     "data": {
      "text/plain": [
       "(ApprovedOnSecondReading(date=datetime.date(2022, 10, 10), item='Approved on Second Reading without Amendment;', name='Approved On Second Reading', with_amendments=False),\n",
       " False)"
      ]
     },
     "execution_count": 64,
     "metadata": {},
     "output_type": "execute_result"
    }
   ],
   "source": [
    "test_parsing(ApprovedOnSecondReading, \"Approved on Second Reading without Amendment;\")"
   ]
  },
  {
   "cell_type": "markdown",
   "metadata": {},
   "source": [
    "### Transferred to Calendar for Special Order"
   ]
  },
  {
   "cell_type": "code",
   "execution_count": 27,
   "metadata": {},
   "outputs": [],
   "source": [
    "# | export\n",
    "class TransferredToCalendarForSpecialOrder(SenateBill.SenateBillStatus):\n",
    "    name: str = \"Transferred to Calendar for Special Order\"\n",
    "\n",
    "    @classmethod\n",
    "    def parse(cls, h):\n",
    "        if (\n",
    "            h.item\n",
    "            == \"Transferred from the Calendar for Ordinary Business to the Calendar for Special Order;\"\n",
    "        ):\n",
    "            return (cls(**h.dict()), False)\n",
    "        return (None, True)"
   ]
  },
  {
   "cell_type": "code",
   "execution_count": 65,
   "metadata": {},
   "outputs": [
    {
     "data": {
      "text/plain": [
       "(TransferredToCalendarForSpecialOrder(date=datetime.date(2022, 10, 10), item='Transferred from the Calendar for Ordinary Business to the Calendar for Special Order;', name='Transferred to Calendar for Special Order'),\n",
       " False)"
      ]
     },
     "execution_count": 65,
     "metadata": {},
     "output_type": "execute_result"
    }
   ],
   "source": [
    "test_parsing(\n",
    "    TransferredToCalendarForSpecialOrder,\n",
    "    \"Transferred from the Calendar for Ordinary Business to the Calendar for Special Order;\",\n",
    ")"
   ]
  },
  {
   "cell_type": "markdown",
   "metadata": {},
   "source": [
    "### Period of Interpellation Closed"
   ]
  },
  {
   "cell_type": "code",
   "execution_count": 66,
   "metadata": {},
   "outputs": [],
   "source": [
    "# | export\n",
    "class PeriodOfInterpellationClosed(SenateBill.SenateBillStatus):\n",
    "    name: str = \"Period of Interpellation Closed\"\n",
    "\n",
    "    @classmethod\n",
    "    def parse(cls, h):\n",
    "        if h.item == \"Period of interpellation closed;\":\n",
    "            return (cls(**h.dict()), False)\n",
    "        return (None, True)"
   ]
  },
  {
   "cell_type": "code",
   "execution_count": 68,
   "metadata": {},
   "outputs": [
    {
     "data": {
      "text/plain": [
       "(PeriodOfInterpellationClosed(date=datetime.date(2022, 10, 10), item='Period of interpellation closed;', name='Period of Interpellation Closed'),\n",
       " False)"
      ]
     },
     "execution_count": 68,
     "metadata": {},
     "output_type": "execute_result"
    }
   ],
   "source": [
    "test_parsing(PeriodOfInterpellationClosed, \"Period of interpellation closed;\")"
   ]
  },
  {
   "cell_type": "markdown",
   "metadata": {},
   "source": [
    "### Sponsorship Speech"
   ]
  },
  {
   "cell_type": "code",
   "execution_count": 152,
   "metadata": {},
   "outputs": [],
   "source": [
    "# | export\n",
    "class SponsorshipSpeech(SenateBill.SenateBillStatus):\n",
    "    name: str = \"Sponsorship Speech\"\n",
    "    senators: List[Senator]\n",
    "\n",
    "    @classmethod\n",
    "    def parse(cls, h):\n",
    "        slug1 = \"Sponsorship speech of Senator(s) \"\n",
    "        if h.item.startswith(slug1):\n",
    "            senators = (\n",
    "                h.item.replace(slug1, \"\")\n",
    "                .replace(\" on the Conference Committee Report;\", \"\")\n",
    "                .replace(\" on the conference committee report;\", \"\")\n",
    "            )\n",
    "            senators = [Senator(name=name) for name in senators.split(\" and \")]\n",
    "            return (cls(**h.dict(), senators=senators), True)\n",
    "        slug2 = \"Sponsorship speech on the Conference Committee Report of Senator \"\n",
    "        if h.item.startswith(slug2):\n",
    "            senators = [Senator(name=h.item.replace(slug2, \"\").replace(\";\", \"\"))]\n",
    "            return (cls(**h.dict(), senators=senators), True)\n",
    "        slug3 = \"Sponsorship speech on the conference committee report of Senator \"\n",
    "        if h.item.startswith(slug3):\n",
    "            senators = [Senator(name=h.item.replace(slug3, \"\").replace(\";\", \"\"))]\n",
    "            return (cls(**h.dict(), senators=senators), True)\n",
    "        slug4 = \"Sponsorship speech of Senator \"\n",
    "        if h.item.startswith(slug4):\n",
    "            senators = [\n",
    "                Senator(\n",
    "                    name=(\n",
    "                        h.item.replace(slug4, \"\")\n",
    "                        .replace(\";\", \"\")\n",
    "                        .replace(\" on the conference committee report\", \"\")\n",
    "                        .replace(\" on the Conference Committee Report\", \"\")\n",
    "                    )\n",
    "                )\n",
    "            ]\n",
    "            return (cls(**h.dict(), senators=senators), True)\n",
    "        slug5 = \"Sponsorship speech delivered by Senator \"\n",
    "        if h.item.startswith(slug5):\n",
    "            senators = [Senator(name=h.item.replace(slug5, \"\").replace(\";\", \"\"))]\n",
    "            return (cls(**h.dict(), senators=senators), True)\n",
    "        slug6 = \"Sponsorship Speech on the Conference Committee Report of Senator \"\n",
    "        slug7 = \"Sponsorship speech on the  Conference Committee Report of Senator \"\n",
    "        if h.item.startswith(slug6) or h.item.startswith(slug7):\n",
    "            senators = [\n",
    "                Senator(\n",
    "                    name=(h.item.replace(slug6, \"\").replace(slug7, \"\").replace(\";\", \"\"))\n",
    "                )\n",
    "            ]\n",
    "            return (cls(**h.dict(), senators=senators), True)\n",
    "        return (None, True)"
   ]
  },
  {
   "cell_type": "code",
   "execution_count": 75,
   "metadata": {},
   "outputs": [
    {
     "data": {
      "text/plain": [
       "(SponsorshipSpeech(date=datetime.date(2022, 10, 10), item='Sponsorship speech of Senator(s) BENIGNO S. AQUINO III and JINGGOY P. EJERCITO-ESTRADA;', name='Sponsorship Speech', senators=[Senator(name='BENIGNO S. AQUINO III'), Senator(name='JINGGOY P. EJERCITO-ESTRADA;')]),\n",
       " True)"
      ]
     },
     "execution_count": 75,
     "metadata": {},
     "output_type": "execute_result"
    }
   ],
   "source": [
    "test_parsing(\n",
    "    SponsorshipSpeech,\n",
    "    \"Sponsorship speech of Senator(s) BENIGNO S. AQUINO III and JINGGOY P. EJERCITO-ESTRADA;\",\n",
    ")"
   ]
  },
  {
   "cell_type": "code",
   "execution_count": 80,
   "metadata": {},
   "outputs": [
    {
     "data": {
      "text/plain": [
       "(SponsorshipSpeech(date=datetime.date(2022, 10, 10), item='Sponsorship speech of Senator(s) EDGARDO J. ANGARA on the Conference Committee Report;', name='Sponsorship Speech', senators=[Senator(name='EDGARDO J. ANGARA')]),\n",
       " True)"
      ]
     },
     "execution_count": 80,
     "metadata": {},
     "output_type": "execute_result"
    }
   ],
   "source": [
    "test_parsing(\n",
    "    SponsorshipSpeech,\n",
    "    \"Sponsorship speech of Senator(s) EDGARDO J. ANGARA on the Conference Committee Report;\",\n",
    ")"
   ]
  },
  {
   "cell_type": "code",
   "execution_count": 94,
   "metadata": {},
   "outputs": [
    {
     "data": {
      "text/plain": [
       "(SponsorshipSpeech(date=datetime.date(2022, 10, 10), item='Sponsorship speech on the Conference Committee Report of Senator JOEL VILLANUEVA;', name='Sponsorship Speech', senators=[Senator(name='JOEL VILLANUEVA')]),\n",
       " True)"
      ]
     },
     "execution_count": 94,
     "metadata": {},
     "output_type": "execute_result"
    }
   ],
   "source": [
    "test_parsing(\n",
    "    SponsorshipSpeech,\n",
    "    \"Sponsorship speech on the Conference Committee Report of Senator JOEL VILLANUEVA;\",\n",
    ")"
   ]
  },
  {
   "cell_type": "code",
   "execution_count": 102,
   "metadata": {},
   "outputs": [
    {
     "data": {
      "text/plain": [
       "(None, True)"
      ]
     },
     "execution_count": 102,
     "metadata": {},
     "output_type": "execute_result"
    }
   ],
   "source": [
    "test_parsing(\n",
    "    SponsorshipSpeech,\n",
    "    'Sponsorship speech on the conference committee report of Senator EMMANUEL \"MANNY\" D. PACQUIAO;',\n",
    ")"
   ]
  },
  {
   "cell_type": "code",
   "execution_count": 107,
   "metadata": {},
   "outputs": [
    {
     "data": {
      "text/plain": [
       "(SponsorshipSpeech(date=datetime.date(2022, 10, 10), item='Sponsorship speech of Senator RONALD \"BATO\" DELA ROSA on the conference committee report;', name='Sponsorship Speech', senators=[Senator(name='RONALD \"BATO\" DELA ROSA')]),\n",
       " True)"
      ]
     },
     "execution_count": 107,
     "metadata": {},
     "output_type": "execute_result"
    }
   ],
   "source": [
    "test_parsing(\n",
    "    SponsorshipSpeech,\n",
    "    'Sponsorship speech of Senator RONALD \"BATO\" DELA ROSA on the conference committee report;',\n",
    ")"
   ]
  },
  {
   "cell_type": "code",
   "execution_count": 109,
   "metadata": {},
   "outputs": [
    {
     "data": {
      "text/plain": [
       "(SponsorshipSpeech(date=datetime.date(2022, 10, 10), item='Sponsorship speech delivered by Senator SONNY ANGARA;', name='Sponsorship Speech', senators=[Senator(name='SONNY ANGARA')]),\n",
       " True)"
      ]
     },
     "execution_count": 109,
     "metadata": {},
     "output_type": "execute_result"
    }
   ],
   "source": [
    "test_parsing(\n",
    "    SponsorshipSpeech,\n",
    "    \"Sponsorship speech delivered by Senator SONNY ANGARA;\",\n",
    ")"
   ]
  },
  {
   "cell_type": "code",
   "execution_count": 116,
   "metadata": {},
   "outputs": [
    {
     "data": {
      "text/plain": [
       "(SponsorshipSpeech(date=datetime.date(2022, 10, 10), item='Sponsorship Speech on the Conference Committee Report of Senator RISA HONTIVEROS;', name='Sponsorship Speech', senators=[Senator(name='RISA HONTIVEROS')]),\n",
       " True)"
      ]
     },
     "execution_count": 116,
     "metadata": {},
     "output_type": "execute_result"
    }
   ],
   "source": [
    "test_parsing(\n",
    "    SponsorshipSpeech,\n",
    "    \"Sponsorship Speech on the Conference Committee Report of Senator RISA HONTIVEROS;\",\n",
    ")"
   ]
  },
  {
   "cell_type": "markdown",
   "metadata": {},
   "source": [
    "### Sponsorship Speech Inserted into Record"
   ]
  },
  {
   "cell_type": "code",
   "execution_count": 135,
   "metadata": {},
   "outputs": [],
   "source": [
    "# | export\n",
    "class SponsorshipSpeechInsertedIntoRecord(SenateBill.SenateBillStatus):\n",
    "    name: str = \"Sponsorship Speech Inserted into Record\"\n",
    "\n",
    "    @classmethod\n",
    "    def parse(cls, h):\n",
    "        if h.item == \"Sponsorship speech inserted into the record;\":\n",
    "            return (cls(**h.dict()), False)\n",
    "        return (None, True)"
   ]
  },
  {
   "cell_type": "code",
   "execution_count": 136,
   "metadata": {},
   "outputs": [
    {
     "data": {
      "text/plain": [
       "(SponsorshipSpeechInsertedIntoRecord(date=datetime.date(2022, 10, 10), item='Sponsorship speech inserted into the record;', name='Sponsorship Speech Inserted into Record'),\n",
       " False)"
      ]
     },
     "execution_count": 136,
     "metadata": {},
     "output_type": "execute_result"
    }
   ],
   "source": [
    "test_parsing(\n",
    "    SponsorshipSpeechInsertedIntoRecord,\n",
    "    \"Sponsorship speech inserted into the record;\",\n",
    ")"
   ]
  },
  {
   "cell_type": "markdown",
   "metadata": {},
   "source": [
    "### Approved on Third Reading"
   ]
  },
  {
   "cell_type": "code",
   "execution_count": 137,
   "metadata": {},
   "outputs": [],
   "source": [
    "# | export\n",
    "class ApprovedOnThirdReading(SenateBill.SenateBillStatus):\n",
    "    name: str = \"Approved on Third Reading\"\n",
    "\n",
    "    @classmethod\n",
    "    def parse(cls, h):\n",
    "        if h.item == \"Approved on Third Reading;\":\n",
    "            return (cls(**h.dict()), False)\n",
    "        return (None, True)"
   ]
  },
  {
   "cell_type": "code",
   "execution_count": 127,
   "metadata": {},
   "outputs": [
    {
     "data": {
      "text/plain": [
       "(ApprovedOnThirdReading(date=datetime.date(2022, 10, 10), item='Approved on Third Reading;', name='Approved on Third Reading'),\n",
       " False)"
      ]
     },
     "execution_count": 127,
     "metadata": {},
     "output_type": "execute_result"
    }
   ],
   "source": [
    "test_parsing(\n",
    "    ApprovedOnThirdReading,\n",
    "    \"Approved on Third Reading;\",\n",
    ")"
   ]
  },
  {
   "cell_type": "markdown",
   "metadata": {},
   "source": [
    "### Sent to the House of Representatives"
   ]
  },
  {
   "cell_type": "code",
   "execution_count": 132,
   "metadata": {},
   "outputs": [],
   "source": [
    "# | export\n",
    "class SentToHouseOfRepresentatives(SenateBill.SenateBillStatus):\n",
    "    name: str = \"Sent to the House of Representatives\"\n",
    "\n",
    "    @classmethod\n",
    "    def parse(cls, h):\n",
    "        if h.item == \"Sent to the House of Representatives requesting for concurrence;\":\n",
    "            return (cls(**h.dict()), False)\n",
    "        return (None, True)"
   ]
  },
  {
   "cell_type": "code",
   "execution_count": 134,
   "metadata": {},
   "outputs": [
    {
     "data": {
      "text/plain": [
       "(SentToHouseOfRepresentatives(date=datetime.date(2022, 10, 10), item='Sent to the House of Representatives requesting for concurrence;', name='Sent to the House of Representatives'),\n",
       " False)"
      ]
     },
     "execution_count": 134,
     "metadata": {},
     "output_type": "execute_result"
    }
   ],
   "source": [
    "test_parsing(\n",
    "    SentToHouseOfRepresentatives,\n",
    "    \"Sent to the House of Representatives requesting for concurrence;\",\n",
    ")"
   ]
  },
  {
   "cell_type": "markdown",
   "metadata": {},
   "source": [
    "### Individual amendmends opened"
   ]
  },
  {
   "cell_type": "code",
   "execution_count": 153,
   "metadata": {},
   "outputs": [],
   "source": [
    "# | export\n",
    "class IndividualAmendmentsOpened(SenateBill.SenateBillStatus):\n",
    "    name: str = \"Individual amendments opened\"\n",
    "\n",
    "    @classmethod\n",
    "    def parse(cls, h):\n",
    "        if h.item == \"Period of individual amendments;\":\n",
    "            return (cls(**h.dict()), False)\n",
    "        return (None, True)"
   ]
  },
  {
   "cell_type": "code",
   "execution_count": 154,
   "metadata": {},
   "outputs": [
    {
     "data": {
      "text/plain": [
       "(IndividualAmendmentsOpened(date=datetime.date(2022, 10, 10), item='Period of individual amendments;', name='Individual amendments opened'),\n",
       " False)"
      ]
     },
     "execution_count": 154,
     "metadata": {},
     "output_type": "execute_result"
    }
   ],
   "source": [
    "test_parsing(\n",
    "    IndividualAmendmentsOpened,\n",
    "    \"Period of individual amendments;\",\n",
    ")"
   ]
  },
  {
   "cell_type": "markdown",
   "metadata": {},
   "source": [
    "### Individual amendments closed"
   ]
  },
  {
   "cell_type": "code",
   "execution_count": 138,
   "metadata": {},
   "outputs": [],
   "source": [
    "# | export\n",
    "class IndividualAmendmentsClosed(SenateBill.SenateBillStatus):\n",
    "    name: str = \"Individual amendments closed\"\n",
    "\n",
    "    @classmethod\n",
    "    def parse(cls, h):\n",
    "        if h.item == \"Period of individual amendments closed;\":\n",
    "            return (cls(**h.dict()), False)\n",
    "        return (None, True)"
   ]
  },
  {
   "cell_type": "code",
   "execution_count": 141,
   "metadata": {},
   "outputs": [
    {
     "data": {
      "text/plain": [
       "(IndividualAmendmentsClosed(date=datetime.date(2022, 10, 10), item='Period of individual amendments closed;', name='Individual amendments closed'),\n",
       " False)"
      ]
     },
     "execution_count": 141,
     "metadata": {},
     "output_type": "execute_result"
    }
   ],
   "source": [
    "test_parsing(\n",
    "    IndividualAmendmentsClosed,\n",
    "    \"Period of individual amendments closed;\",\n",
    ")"
   ]
  },
  {
   "cell_type": "markdown",
   "metadata": {},
   "source": [
    "### Committee amendmends opened"
   ]
  },
  {
   "cell_type": "code",
   "execution_count": 161,
   "metadata": {},
   "outputs": [],
   "source": [
    "# | export\n",
    "class CommitteeAmendmentsOpened(SenateBill.SenateBillStatus):\n",
    "    name: str = \"Committee amendments opened\"\n",
    "\n",
    "    @classmethod\n",
    "    def parse(cls, h):\n",
    "        if h.item == \"Period of committee amendments;\":\n",
    "            return (cls(**h.dict()), False)\n",
    "        return (None, True)"
   ]
  },
  {
   "cell_type": "code",
   "execution_count": 162,
   "metadata": {},
   "outputs": [
    {
     "data": {
      "text/plain": [
       "(CommitteeAmendmentsOpened(date=datetime.date(2022, 10, 10), item='Period of committee amendments;', name='Committee amendments opened'),\n",
       " False)"
      ]
     },
     "execution_count": 162,
     "metadata": {},
     "output_type": "execute_result"
    }
   ],
   "source": [
    "test_parsing(\n",
    "    CommitteeAmendmentsOpened,\n",
    "    \"Period of committee amendments;\",\n",
    ")"
   ]
  },
  {
   "cell_type": "markdown",
   "metadata": {},
   "source": [
    "### Committee amendments closed"
   ]
  },
  {
   "cell_type": "code",
   "execution_count": 143,
   "metadata": {},
   "outputs": [],
   "source": [
    "# | export\n",
    "class CommitteeAmendmentsClosed(SenateBill.SenateBillStatus):\n",
    "    name: str = \"Committee amendments closed\"\n",
    "\n",
    "    @classmethod\n",
    "    def parse(cls, h):\n",
    "        if h.item == \"Period of committee amendments closed;\":\n",
    "            return (cls(**h.dict()), False)\n",
    "        return (None, True)"
   ]
  },
  {
   "cell_type": "code",
   "execution_count": 150,
   "metadata": {},
   "outputs": [
    {
     "data": {
      "text/plain": [
       "(CommitteeAmendmentsClosed(date=datetime.date(2022, 10, 10), item='Period of committee amendments closed;', name='Committee amendments closed'),\n",
       " False)"
      ]
     },
     "execution_count": 150,
     "metadata": {},
     "output_type": "execute_result"
    }
   ],
   "source": [
    "test_parsing(\n",
    "    CommitteeAmendmentsClosed,\n",
    "    \"Period of committee amendments closed;\",\n",
    ")"
   ]
  },
  {
   "cell_type": "markdown",
   "metadata": {},
   "source": [
    "### Printed copies distributed to Senators"
   ]
  },
  {
   "cell_type": "code",
   "execution_count": 155,
   "metadata": {},
   "outputs": [],
   "source": [
    "# | export\n",
    "class CopiesDistributed(SenateBill.SenateBillStatus):\n",
    "    name: str = \"Copies Distributed to Senators\"\n",
    "\n",
    "    @classmethod\n",
    "    def parse(cls, h):\n",
    "        if h.item == \"Printed copies were distributed to the Senators;\":\n",
    "            return (cls(**h.dict()), False)\n",
    "        return (None, True)"
   ]
  },
  {
   "cell_type": "code",
   "execution_count": 156,
   "metadata": {},
   "outputs": [
    {
     "data": {
      "text/plain": [
       "(CopiesDistributed(date=datetime.date(2022, 10, 10), item='Printed copies were distributed to the Senators;', name='Copies Distributed to Senators'),\n",
       " False)"
      ]
     },
     "execution_count": 156,
     "metadata": {},
     "output_type": "execute_result"
    }
   ],
   "source": [
    "test_parsing(\n",
    "    CopiesDistributed,\n",
    "    \"Printed copies were distributed to the Senators;\",\n",
    ")"
   ]
  },
  {
   "cell_type": "markdown",
   "metadata": {},
   "source": [
    "### Consolidated with Approved Bill"
   ]
  },
  {
   "cell_type": "code",
   "execution_count": 164,
   "metadata": {},
   "outputs": [],
   "source": [
    "# | export\n",
    "class ConsolidatedWithApprovedBill(SenateBill.SenateBillStatus):\n",
    "    name: str = \"Consolidated with Approved Bill\"\n",
    "\n",
    "    @classmethod\n",
    "    def parse(cls, h):\n",
    "        if h.item == \"Consolidated with Approved Bill\":\n",
    "            return (cls(**h.dict()), False)\n",
    "        return (None, True)"
   ]
  },
  {
   "cell_type": "code",
   "execution_count": 165,
   "metadata": {},
   "outputs": [
    {
     "data": {
      "text/plain": [
       "(ConsolidatedWithApprovedBill(date=datetime.date(2022, 10, 10), item='Consolidated with Approved Bill', name='Consolidated with Approved Bill'),\n",
       " False)"
      ]
     },
     "execution_count": 165,
     "metadata": {},
     "output_type": "execute_result"
    }
   ],
   "source": [
    "test_parsing(\n",
    "    ConsolidatedWithApprovedBill,\n",
    "    \"Consolidated with Approved Bill\",\n",
    ")"
   ]
  },
  {
   "cell_type": "markdown",
   "metadata": {},
   "source": [
    "### Approved by the President"
   ]
  },
  {
   "cell_type": "code",
   "execution_count": 160,
   "metadata": {},
   "outputs": [],
   "source": [
    "# | export\n",
    "class ApprovedByPresident(SenateBill.SenateBillStatus):\n",
    "    name: str = \"Approved by the President\"\n",
    "\n",
    "    @classmethod\n",
    "    def parse(cls, h):\n",
    "        if h.item == \"Approved by the President of the Philippines\":\n",
    "            return (cls(**h.dict()), False)\n",
    "        return (None, True)"
   ]
  },
  {
   "cell_type": "code",
   "execution_count": 159,
   "metadata": {},
   "outputs": [
    {
     "data": {
      "text/plain": [
       "(ApprovedByPresident(date=datetime.date(2022, 10, 10), item='Approved by the President of the Philippines', name='Approved by the President'),\n",
       " False)"
      ]
     },
     "execution_count": 159,
     "metadata": {},
     "output_type": "execute_result"
    }
   ],
   "source": [
    "test_parsing(\n",
    "    ApprovedByPresident,\n",
    "    \"Approved by the President of the Philippines\",\n",
    ")"
   ]
  }
 ],
 "metadata": {
  "kernelspec": {
   "display_name": "Python 3.10.7 ('.venv': poetry)",
   "language": "python",
   "name": "python3"
  },
  "language_info": {
   "codemirror_mode": {
    "name": "ipython",
    "version": 3
   },
   "file_extension": ".py",
   "mimetype": "text/x-python",
   "name": "python",
   "nbconvert_exporter": "python",
   "pygments_lexer": "ipython3",
   "version": "3.10.7"
  },
  "vscode": {
   "interpreter": {
    "hash": "5a688726896013941b39c9d6e5b29da12474bacb0091e692d209852cd8d8e556"
   }
  }
 },
 "nbformat": 4,
 "nbformat_minor": 2
}
