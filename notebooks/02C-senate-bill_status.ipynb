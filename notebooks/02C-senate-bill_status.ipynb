{
 "cells": [
  {
   "cell_type": "markdown",
   "metadata": {},
   "source": [
    "# Parsing Senate Bill Status\n",
    "\n",
    "> In the current legislative status field as well as the Legislative history section, there are free text strings that depic actions being taken on these bills, their dates, and the potential actors. However, they are not particularly well-formatted, so we'll need to do some custom string parsing to get this to work.\n"
   ]
  },
  {
   "cell_type": "code",
   "execution_count": null,
   "metadata": {},
   "outputs": [],
   "source": [
    "# | default_exp senate.bill_status\n",
    "# | export\n",
    "import re\n",
    "import datetime\n",
    "\n",
    "from typing import List\n",
    "from nbdev.showdoc import show_doc\n",
    "\n",
    "from legisph.senate.models import SenateBill, Senator, SenateCommittee"
   ]
  },
  {
   "cell_type": "markdown",
   "metadata": {},
   "source": [
    "## Parsing Strategy \n",
    "\n",
    "Our strategy is to cycle through a predefined list of classes that all have a `parse()` class method which return parsed statuses (if any) and an indicator as to whether to short circuit the function. \n",
    "\n",
    "### Pending In Committee\n",
    "\n",
    "For example, we first define the most common status for \"Pending in committee\" as follows:"
   ]
  },
  {
   "cell_type": "code",
   "execution_count": null,
   "metadata": {},
   "outputs": [],
   "source": [
    "# | export\n",
    "class PendingInCommittee(SenateBill.SenateBillStatus):\n",
    "    name: str = \"Pending in Committee\"\n",
    "\n",
    "    @classmethod\n",
    "    def parse(cls, h):\n",
    "        if h.item == \"Pending in the Committee\":\n",
    "            return (cls(**h.dict()), False)\n",
    "        return (None, True)"
   ]
  },
  {
   "cell_type": "markdown",
   "metadata": {},
   "source": [
    "This is able to parse a status and turn it into the relevant subclass. It returns `False` for the second part of the tuple because if it matches exactly, then there is no further action to take."
   ]
  },
  {
   "cell_type": "code",
   "execution_count": null,
   "metadata": {},
   "outputs": [
    {
     "data": {
      "text/plain": [
       "(PendingInCommittee(date=datetime.date(2022, 10, 7), item='Pending in the Committee', name='Pending in Committee'),\n",
       " False)"
      ]
     },
     "execution_count": null,
     "metadata": {},
     "output_type": "execute_result"
    }
   ],
   "source": [
    "PendingInCommittee.parse(\n",
    "    SenateBill.SenateBillStatus(\n",
    "        date=datetime.date(2022, 10, 7), item=\"Pending in the Committee\"\n",
    "    )\n",
    ")"
   ]
  },
  {
   "cell_type": "markdown",
   "metadata": {},
   "source": [
    "This function below then takes a predefined list of classes and cycles through them, chugging out the parsed actions along the way."
   ]
  },
  {
   "cell_type": "code",
   "execution_count": null,
   "metadata": {},
   "outputs": [
    {
     "data": {
      "text/markdown": [
       "---\n",
       "\n",
       "### parse_senate_bill_status\n",
       "\n",
       ">      parse_senate_bill_status\n",
       ">                                (status:legisph.senate.models.SenateBill.Senate\n",
       ">                                BillStatus, classes:list)\n",
       "\n",
       "|    | **Type** | **Details** |\n",
       "| -- | -------- | ----------- |\n",
       "| status | SenateBillStatus | Senate Bill Status to parse into a subclass |\n",
       "| classes | list | List of classes through which to cycle |"
      ],
      "text/plain": [
       "---\n",
       "\n",
       "### parse_senate_bill_status\n",
       "\n",
       ">      parse_senate_bill_status\n",
       ">                                (status:legisph.senate.models.SenateBill.Senate\n",
       ">                                BillStatus, classes:list)\n",
       "\n",
       "|    | **Type** | **Details** |\n",
       "| -- | -------- | ----------- |\n",
       "| status | SenateBillStatus | Senate Bill Status to parse into a subclass |\n",
       "| classes | list | List of classes through which to cycle |"
      ]
     },
     "execution_count": null,
     "metadata": {},
     "output_type": "execute_result"
    }
   ],
   "source": [
    "# | export\n",
    "def parse_senate_bill_status(\n",
    "    status: SenateBill.SenateBillStatus,  # Senate Bill Status to parse into a subclass\n",
    "    classes: list,  # List of classes through which to cycle\n",
    "):\n",
    "    actions = []\n",
    "    for c in classes:\n",
    "        action, cycle = c.parse(status)\n",
    "        if action is not None:\n",
    "            actions.append(action)\n",
    "        if not cycle:\n",
    "            break\n",
    "    return actions\n",
    "\n",
    "\n",
    "show_doc(parse_senate_bill_status)"
   ]
  },
  {
   "cell_type": "code",
   "execution_count": null,
   "metadata": {},
   "outputs": [
    {
     "data": {
      "text/plain": [
       "[PendingInCommittee(date=datetime.date(2022, 10, 7), item='Pending in the Committee', name='Pending in Committee')]"
      ]
     },
     "execution_count": null,
     "metadata": {},
     "output_type": "execute_result"
    }
   ],
   "source": [
    "parse_senate_bill_status(\n",
    "    SenateBill.SenateBillStatus(\n",
    "        date=datetime.date(2022, 10, 7), item=\"Pending in the Committee\"\n",
    "    ),\n",
    "    classes=[PendingInCommittee],\n",
    ")"
   ]
  },
  {
   "cell_type": "markdown",
   "metadata": {},
   "source": [
    "## Parsing All Statuses\n",
    "\n",
    "We then proceed to define all the remaining statuses below:\n"
   ]
  },
  {
   "cell_type": "markdown",
   "metadata": {},
   "source": [
    "### Joint Proceedings"
   ]
  },
  {
   "cell_type": "code",
   "execution_count": null,
   "metadata": {},
   "outputs": [],
   "source": [
    "# | export\n",
    "class JointProceedings(SenateBill.SenateBillStatus):\n",
    "    name: str = \"Conducted Joint Proceedings\"\n",
    "\n",
    "    @classmethod\n",
    "    def parse(cls, h):\n",
    "        if h.item == \"Conducted JOINT COMMITTEE MEETINGS/HEARINGS;\":\n",
    "            return (cls(**h.dict()), False)\n",
    "        return (None, True)"
   ]
  },
  {
   "cell_type": "code",
   "execution_count": null,
   "metadata": {},
   "outputs": [
    {
     "data": {
      "text/plain": [
       "(JointProceedings(date=datetime.date(2022, 10, 7), item='Conducted JOINT COMMITTEE MEETINGS/HEARINGS;', name='Conducted Joint Proceedings'),\n",
       " False)"
      ]
     },
     "execution_count": null,
     "metadata": {},
     "output_type": "execute_result"
    }
   ],
   "source": [
    "JointProceedings.parse(\n",
    "    SenateBill.SenateBillStatus(\n",
    "        date=datetime.date(2022, 10, 7),\n",
    "        item=\"Conducted JOINT COMMITTEE MEETINGS/HEARINGS;\",\n",
    "    )\n",
    ")"
   ]
  },
  {
   "cell_type": "markdown",
   "metadata": {},
   "source": [
    "### Introduced"
   ]
  },
  {
   "cell_type": "code",
   "execution_count": null,
   "metadata": {},
   "outputs": [],
   "source": [
    "# | export\n",
    "class Introduced(SenateBill.SenateBillStatus):\n",
    "    name: str = \"Introduced by a Senator\"\n",
    "    senator: Senator\n",
    "\n",
    "    @classmethod\n",
    "    def parse(cls, h):\n",
    "        if h.item.startswith(\"Introduced by Senator \"):\n",
    "            return (\n",
    "                cls(\n",
    "                    **h.dict(),\n",
    "                    senator=Senator(\n",
    "                        name=(\n",
    "                            h.item.replace(\"Introduced by Senator \", \"\").replace(\n",
    "                                \";\", \"\"\n",
    "                            )\n",
    "                        )\n",
    "                    )\n",
    "                ),\n",
    "                True,\n",
    "            )\n",
    "        return (None, True)"
   ]
  },
  {
   "cell_type": "code",
   "execution_count": null,
   "metadata": {},
   "outputs": [
    {
     "data": {
      "text/plain": [
       "(Introduced(date=datetime.date(2022, 10, 7), item='Introduced by Senator JINGGOY P. EJERCITO-ESTRADA;', name='Introduced by a Senator', senator=Senator(name='JINGGOY P. EJERCITO-ESTRADA')),\n",
       " True)"
      ]
     },
     "execution_count": null,
     "metadata": {},
     "output_type": "execute_result"
    }
   ],
   "source": [
    "Introduced.parse(\n",
    "    SenateBill.SenateBillStatus(\n",
    "        date=datetime.date(2022, 10, 7),\n",
    "        item=\"Introduced by Senator JINGGOY P. EJERCITO-ESTRADA;\",\n",
    "    )\n",
    ")"
   ]
  },
  {
   "cell_type": "markdown",
   "metadata": {},
   "source": [
    "### Committee Report Calendared For Ordinary Business"
   ]
  },
  {
   "cell_type": "code",
   "execution_count": null,
   "metadata": {},
   "outputs": [],
   "source": [
    "# | export\n",
    "class CommitteeReportCalendaredForOrdinaryBusiness(SenateBill.SenateBillStatus):\n",
    "    name: str = \"Committe Report Calendared for Ordinary Business\"\n",
    "\n",
    "    @classmethod\n",
    "    def parse(cls, h):\n",
    "        if h.item == \"Committee Report Calendared for Ordinary Business;\":\n",
    "            return (cls(**h.dict()), False)\n",
    "        return (None, True)"
   ]
  },
  {
   "cell_type": "code",
   "execution_count": null,
   "metadata": {},
   "outputs": [
    {
     "data": {
      "text/plain": [
       "(CommitteeReportCalendaredForOrdinaryBusiness(date=datetime.date(2022, 10, 7), item='Committee Report Calendared for Ordinary Business;', name='Committe Report Calendared for Ordinary Business'),\n",
       " False)"
      ]
     },
     "execution_count": null,
     "metadata": {},
     "output_type": "execute_result"
    }
   ],
   "source": [
    "CommitteeReportCalendaredForOrdinaryBusiness.parse(\n",
    "    SenateBill.SenateBillStatus(\n",
    "        date=datetime.date(2022, 10, 7),\n",
    "        item=\"Committee Report Calendared for Ordinary Business;\",\n",
    "    )\n",
    ")"
   ]
  },
  {
   "cell_type": "markdown",
   "metadata": {},
   "source": [
    "### Consolidated or Substituted in Committee Report"
   ]
  },
  {
   "cell_type": "code",
   "execution_count": null,
   "metadata": {},
   "outputs": [],
   "source": [
    "# | export\n",
    "class ConsolidatedOrSubstitutedInCommitteeReport(SenateBill.SenateBillStatus):\n",
    "    name: str = \"Consolidated or Substituted in Committee Report\"\n",
    "\n",
    "    @classmethod\n",
    "    def parse(cls, h):\n",
    "        if h.item == \"Consolidated/Substituted in the Committee Report\":\n",
    "            return (cls(**h.dict()), False)\n",
    "        return (None, True)"
   ]
  },
  {
   "cell_type": "code",
   "execution_count": null,
   "metadata": {},
   "outputs": [
    {
     "data": {
      "text/plain": [
       "(ConsolidatedOrSubstitutedInCommitteeReport(date=datetime.date(2022, 10, 7), item='Consolidated/Substituted in the Committee Report', name='Consolidated or Substituted in Committee Report'),\n",
       " False)"
      ]
     },
     "execution_count": null,
     "metadata": {},
     "output_type": "execute_result"
    }
   ],
   "source": [
    "ConsolidatedOrSubstitutedInCommitteeReport.parse(\n",
    "    SenateBill.SenateBillStatus(\n",
    "        date=datetime.date(2022, 10, 7),\n",
    "        item=\"Consolidated/Substituted in the Committee Report\",\n",
    "    )\n",
    ")"
   ]
  },
  {
   "cell_type": "markdown",
   "metadata": {},
   "source": [
    "### Technical Working Group"
   ]
  },
  {
   "cell_type": "code",
   "execution_count": null,
   "metadata": {},
   "outputs": [],
   "source": [
    "# | export\n",
    "class TechnicalWorkingGroup(SenateBill.SenateBillStatus):\n",
    "    name: str = \"Conducted a Technical Working Group\"\n",
    "\n",
    "    @classmethod\n",
    "    def parse(cls, h):\n",
    "        if h.item == \"Conducted TECHNICAL WORKING GROUP;\":\n",
    "            return (cls(**h.dict()), False)\n",
    "        return (None, True)"
   ]
  },
  {
   "cell_type": "code",
   "execution_count": null,
   "metadata": {},
   "outputs": [
    {
     "data": {
      "text/plain": [
       "(TechnicalWorkingGroup(date=datetime.date(2022, 10, 7), item='Conducted TECHNICAL WORKING GROUP;', name='Conducted a Technical Working Group'),\n",
       " False)"
      ]
     },
     "execution_count": null,
     "metadata": {},
     "output_type": "execute_result"
    }
   ],
   "source": [
    "TechnicalWorkingGroup.parse(\n",
    "    SenateBill.SenateBillStatus(\n",
    "        date=datetime.date(2022, 10, 7), item=\"Conducted TECHNICAL WORKING GROUP;\"\n",
    "    )\n",
    ")"
   ]
  },
  {
   "cell_type": "markdown",
   "metadata": {},
   "source": [
    "### First Reading"
   ]
  },
  {
   "cell_type": "code",
   "execution_count": null,
   "metadata": {},
   "outputs": [],
   "source": [
    "# | export\n",
    "class FirstReading(SenateBill.SenateBillStatus):\n",
    "    name: str = \"Read on First Reading and Referred to Committee\"\n",
    "    committees: List[SenateCommittee]\n",
    "\n",
    "    @classmethod\n",
    "    def parse(cls, h):\n",
    "        slug1 = \"Read on First Reading and Referred to the Committee on \"\n",
    "        slug2 = \"Read on First Reading and Referred to the Committee(s) on \"\n",
    "        if h.item.startswith(slug1):\n",
    "            committee = SenateCommittee(name=h.item.replace(slug1, \"\").replace(\";\", \"\"))\n",
    "            return (cls(**h.dict(), committees=[committee]), False)\n",
    "        if h.item.startswith(slug2):\n",
    "            committees = h.item.replace(slug2, \"\")\n",
    "            committees = re.split(\"[ ]*and[ ]*|[ ]*;[ ]*\", committees)\n",
    "            committees = [\n",
    "                SenateCommittee(name=name) for name in committees if name != \"\"\n",
    "            ]\n",
    "            return (cls(**h.dict(), committees=committees), False)\n",
    "        return (None, True)"
   ]
  },
  {
   "cell_type": "code",
   "execution_count": null,
   "metadata": {},
   "outputs": [
    {
     "data": {
      "text/plain": [
       "(FirstReading(date=datetime.date(2022, 10, 7), item='Read on First Reading and Referred to the Committee on JUSTICE AND HUMAN RIGHTS;', name='Read on First Reading and Referred to Committee', committees=[SenateCommittee(name='JUSTICE AND HUMAN RIGHTS')]),\n",
       " False)"
      ]
     },
     "execution_count": null,
     "metadata": {},
     "output_type": "execute_result"
    }
   ],
   "source": [
    "FirstReading.parse(\n",
    "    SenateBill.SenateBillStatus(\n",
    "        date=datetime.date(2022, 10, 7),\n",
    "        item=\"Read on First Reading and Referred to the Committee on JUSTICE AND HUMAN RIGHTS;\",\n",
    "    )\n",
    ")"
   ]
  },
  {
   "cell_type": "code",
   "execution_count": null,
   "metadata": {},
   "outputs": [
    {
     "data": {
      "text/plain": [
       "(FirstReading(date=datetime.date(2022, 10, 7), item='Read on First Reading and Referred to the Committee(s) on EDUCATION, ARTS AND CULTURE; and FINANCE;', name='Read on First Reading and Referred to Committee', committees=[SenateCommittee(name='EDUCATION, ARTS AND CULTURE'), SenateCommittee(name='FINANCE')]),\n",
       " False)"
      ]
     },
     "execution_count": null,
     "metadata": {},
     "output_type": "execute_result"
    }
   ],
   "source": [
    "FirstReading.parse(\n",
    "    SenateBill.SenateBillStatus(\n",
    "        date=datetime.date(2022, 10, 7),\n",
    "        item=\"Read on First Reading and Referred to the Committee(s) on EDUCATION, ARTS AND CULTURE; and FINANCE;\",\n",
    "    )\n",
    ")"
   ]
  },
  {
   "cell_type": "code",
   "execution_count": null,
   "metadata": {},
   "outputs": [
    {
     "data": {
      "text/plain": [
       "(FirstReading(date=datetime.date(2022, 10, 7), item='Read on First Reading and Referred to the Committee(s) on LOCAL GOVERNMENT; CIVIL SERVICE, GOVERNMENT REORGANIZATION AND PROFESSIONAL REGULATION and FINANCE;', name='Read on First Reading and Referred to Committee', committees=[SenateCommittee(name='LOCAL GOVERNMENT'), SenateCommittee(name='CIVIL SERVICE, GOVERNMENT REORGANIZATION AND PROFESSIONAL REGULATION'), SenateCommittee(name='FINANCE')]),\n",
       " False)"
      ]
     },
     "execution_count": null,
     "metadata": {},
     "output_type": "execute_result"
    }
   ],
   "source": [
    "FirstReading.parse(\n",
    "    SenateBill.SenateBillStatus(\n",
    "        date=datetime.date(2022, 10, 7),\n",
    "        item=\"Read on First Reading and Referred to the Committee(s) on LOCAL GOVERNMENT; CIVIL SERVICE, GOVERNMENT REORGANIZATION AND PROFESSIONAL REGULATION and FINANCE;\",\n",
    "    )\n",
    ")"
   ]
  },
  {
   "cell_type": "markdown",
   "metadata": {},
   "source": [
    "### Committee Proceedings"
   ]
  },
  {
   "cell_type": "code",
   "execution_count": null,
   "metadata": {},
   "outputs": [],
   "source": [
    "# | export\n",
    "class CommitteeProceedings(SenateBill.SenateBillStatus):\n",
    "    name: str = \"Conducted Committee Proceedings\"\n",
    "\n",
    "    @classmethod\n",
    "    def parse(cls, h):\n",
    "        if h.item == \"Conducted COMMITTEE MEETINGS/HEARINGS;\":\n",
    "            return (cls(**h.dict()), False)\n",
    "        return (None, True)"
   ]
  },
  {
   "cell_type": "code",
   "execution_count": null,
   "metadata": {},
   "outputs": [
    {
     "data": {
      "text/plain": [
       "(CommitteeProceedings(date=datetime.date(2022, 10, 7), item='Conducted COMMITTEE MEETINGS/HEARINGS;', name='Conducted Committee Proceedings'),\n",
       " False)"
      ]
     },
     "execution_count": null,
     "metadata": {},
     "output_type": "execute_result"
    }
   ],
   "source": [
    "CommitteeProceedings.parse(\n",
    "    SenateBill.SenateBillStatus(\n",
    "        date=datetime.date(2022, 10, 7), item=\"Conducted COMMITTEE MEETINGS/HEARINGS;\"\n",
    "    )\n",
    ")"
   ]
  },
  {
   "cell_type": "markdown",
   "metadata": {},
   "source": [
    "### Approved on Second Reading"
   ]
  },
  {
   "cell_type": "code",
   "execution_count": null,
   "metadata": {},
   "outputs": [],
   "source": [
    "# | export\n",
    "class ApprovedOnSecondReading(SenateBill.SenateBillStatus):\n",
    "    name: str = \"Approved On Second Reading\"\n",
    "    with_amendments: bool\n",
    "\n",
    "    @classmethod\n",
    "    def parse(cls, h):\n",
    "        if h.item == \"Approved on Second Reading with Amendments;\":\n",
    "            return (cls(**h.dict(), with_amendments=True), False)\n",
    "        if h.item == \"Approved on Second Reading without Amendment;\":\n",
    "            return (cls(**h.dict(), with_amendments=False), False)\n",
    "        return (None, True)"
   ]
  },
  {
   "cell_type": "code",
   "execution_count": null,
   "metadata": {},
   "outputs": [
    {
     "data": {
      "text/plain": [
       "(ApprovedOnSecondReading(date=datetime.date(2022, 10, 7), item='Approved on Second Reading with Amendments;', name='Approved On Second Reading', with_amendments=True),\n",
       " False)"
      ]
     },
     "execution_count": null,
     "metadata": {},
     "output_type": "execute_result"
    }
   ],
   "source": [
    "ApprovedOnSecondReading.parse(\n",
    "    SenateBill.SenateBillStatus(\n",
    "        date=datetime.date(2022, 10, 7),\n",
    "        item=\"Approved on Second Reading with Amendments;\",\n",
    "    )\n",
    ")"
   ]
  },
  {
   "cell_type": "code",
   "execution_count": null,
   "metadata": {},
   "outputs": [
    {
     "data": {
      "text/plain": [
       "(ApprovedOnSecondReading(date=datetime.date(2022, 10, 7), item='Approved on Second Reading without Amendment;', name='Approved On Second Reading', with_amendments=False),\n",
       " False)"
      ]
     },
     "execution_count": null,
     "metadata": {},
     "output_type": "execute_result"
    }
   ],
   "source": [
    "ApprovedOnSecondReading.parse(\n",
    "    SenateBill.SenateBillStatus(\n",
    "        date=datetime.date(2022, 10, 7),\n",
    "        item=\"Approved on Second Reading without Amendment;\",\n",
    "    )\n",
    ")"
   ]
  }
 ],
 "metadata": {
  "kernelspec": {
   "display_name": "Python 3.10.7 ('.venv': poetry)",
   "language": "python",
   "name": "python3"
  }
 },
 "nbformat": 4,
 "nbformat_minor": 2
}
