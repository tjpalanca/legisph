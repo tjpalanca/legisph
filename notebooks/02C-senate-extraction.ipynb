{
 "cells": [
  {
   "cell_type": "raw",
   "metadata": {},
   "source": [
    "---\n",
    "skip_exec: true\n",
    "---"
   ]
  },
  {
   "cell_type": "markdown",
   "metadata": {},
   "source": [
    "# Extracting Senate Data\n",
    "\n",
    "> In this notebook, we will extract the Senate data from the website.\n"
   ]
  },
  {
   "cell_type": "code",
   "execution_count": null,
   "metadata": {},
   "outputs": [],
   "source": [
    "import pickle\n",
    "import logging\n",
    "\n",
    "from legisph.senate.website import SenateWebsite\n",
    "from legisph.core import logger\n",
    "from rich import print\n",
    "\n",
    "logger.setLevel(logging.DEBUG)"
   ]
  },
  {
   "cell_type": "markdown",
   "metadata": {},
   "source": [
    "We extract all the data from the Senate website (this takes a while, so I suggest retrieving a cache from somewhere else and only refreshing the latest Congress data."
   ]
  },
  {
   "cell_type": "code",
   "execution_count": null,
   "metadata": {},
   "outputs": [],
   "source": [
    "senate = SenateWebsite()"
   ]
  },
  {
   "cell_type": "code",
   "execution_count": null,
   "metadata": {},
   "outputs": [
    {
     "data": {
      "text/html": [
       "<pre style=\"white-space:pre;overflow-x:auto;line-height:normal;font-family:Menlo,'DejaVu Sans Mono',consolas,'Courier New',monospace\">\n",
       "    <span style=\"color: #008080; text-decoration-color: #008080; font-weight: bold\">19396</span> bills attempted.\n",
       "    <span style=\"color: #008080; text-decoration-color: #008080; font-weight: bold\">19</span> server errors found.\n",
       "    <span style=\"color: #008080; text-decoration-color: #008080; font-weight: bold\">19377</span> bills successfully collected.\n",
       "    \n",
       "</pre>\n"
      ],
      "text/plain": [
       "\n",
       "    \u001b[1;36m19396\u001b[0m bills attempted.\n",
       "    \u001b[1;36m19\u001b[0m server errors found.\n",
       "    \u001b[1;36m19377\u001b[0m bills successfully collected.\n",
       "    \n"
      ]
     },
     "metadata": {},
     "output_type": "display_data"
    }
   ],
   "source": [
    "bills = senate.fetch_all_bills()\n",
    "errors = list(filter(lambda x: isinstance(x, Exception), bills))\n",
    "print(\n",
    "    f\"\"\"\n",
    "    {len(bills)} bills attempted.\n",
    "    {len(errors)} server errors found.\n",
    "    {len(bills) - len(errors)} bills successfully collected.\n",
    "    \"\"\"\n",
    ")"
   ]
  },
  {
   "cell_type": "markdown",
   "metadata": {},
   "source": [
    "We pickle it out for future use."
   ]
  },
  {
   "cell_type": "code",
   "execution_count": null,
   "metadata": {},
   "outputs": [],
   "source": [
    "with open(\".cache/senate/senate_bills.pickle\", \"wb\") as f:\n",
    "    pickle.dump(bills, f, protocol=pickle.HIGHEST_PROTOCOL)"
   ]
  }
 ],
 "metadata": {
  "kernelspec": {
   "display_name": "Python 3.11.1 ('.venv': poetry)",
   "language": "python",
   "name": "python3"
  }
 },
 "nbformat": 4,
 "nbformat_minor": 2
}
