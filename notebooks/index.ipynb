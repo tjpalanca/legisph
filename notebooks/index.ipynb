{
 "cells": [
  {
   "cell_type": "markdown",
   "metadata": {},
   "source": [
    "# LegisPH "
   ]
  },
  {
   "cell_type": "markdown",
   "metadata": {},
   "source": [
    "> A legislative analysis of the Philippines"
   ]
  }
 ],
 "metadata": {
  "kernelspec": {
   "display_name": "Python 3.10.7 64-bit ('3.10.7')",
   "language": "python",
   "name": "python3"
  }
 },
 "nbformat": 4,
 "nbformat_minor": 2
}
