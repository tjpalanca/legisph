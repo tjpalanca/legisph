{
 "cells": [
  {
   "cell_type": "markdown",
   "metadata": {},
   "source": [
    "# LegisPH "
   ]
  },
  {
   "cell_type": "markdown",
   "metadata": {},
   "source": [
    "> A legislative analysis of the Philippines"
   ]
  },
  {
   "cell_type": "markdown",
   "metadata": {},
   "source": [
    "This project aims to:\n",
    "\n",
    "* compile a quantitative dataset on the legislative process for Republic Acts in the Philippines and make that available publicly,\n",
    "* apply some process analysis tools to shed light on the efficiency of the legislative process, and\n",
    "* provide interactive tools for citizens to explore that data on their own."
   ]
  }
 ],
 "metadata": {
  "kernelspec": {
   "display_name": "Python 3.11.1 ('.venv': poetry)",
   "language": "python",
   "name": "python3"
  }
 },
 "nbformat": 4,
 "nbformat_minor": 2
}
